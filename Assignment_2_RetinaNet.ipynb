{
 "cells": [
  {
   "cell_type": "markdown",
   "id": "e4b8e2cb-14bf-4e05-92de-d469de9e6dd7",
   "metadata": {},
   "source": [
    "# RetinaNet\n",
    "Based on: https://debuggercafe.com/object-detection-using-retinanet-with-pytorch-and-deep-learning/ <br>\n",
    "**Is recommendend to use a virtual environment because packages instalation will be neccesary**\n",
    "\n",
    "This notebook assumes:\n",
    "* That this notebook is in a folder were you want to download the repositories (otherwise please indicate the path to it when is necessary)\n",
    "* That this notebook is in the same folder as metadata.json and the folder with the images extracted"
   ]
  },
  {
   "cell_type": "code",
   "execution_count": 1,
   "id": "69bc27fa-c14a-4e76-bc9c-19c3202cd13f",
   "metadata": {},
   "outputs": [
    {
     "name": "stdout",
     "output_type": "stream",
     "text": [
      "Requirement already satisfied: torch in d:\\avelyn\\avytareas\\dsleuven\\advanced_analytics_in_business\\assignment_2\\irproject\\lib\\site-packages (1.11.0)\n",
      "Requirement already satisfied: torchvision in d:\\avelyn\\avytareas\\dsleuven\\advanced_analytics_in_business\\assignment_2\\irproject\\lib\\site-packages (0.12.0)\n",
      "Requirement already satisfied: pillow in d:\\avelyn\\avytareas\\dsleuven\\advanced_analytics_in_business\\assignment_2\\irproject\\lib\\site-packages (9.1.0)\n",
      "Requirement already satisfied: tensorflow in d:\\avelyn\\avytareas\\dsleuven\\advanced_analytics_in_business\\assignment_2\\irproject\\lib\\site-packages (2.9.0)\n",
      "Requirement already satisfied: typing-extensions in d:\\avelyn\\avytareas\\dsleuven\\advanced_analytics_in_business\\assignment_2\\irproject\\lib\\site-packages (from torch) (4.2.0)\n",
      "Requirement already satisfied: requests in d:\\avelyn\\avytareas\\dsleuven\\advanced_analytics_in_business\\assignment_2\\irproject\\lib\\site-packages (from torchvision) (2.27.1)\n",
      "Requirement already satisfied: numpy in d:\\avelyn\\avytareas\\dsleuven\\advanced_analytics_in_business\\assignment_2\\irproject\\lib\\site-packages (from torchvision) (1.22.3)\n",
      "Requirement already satisfied: opt-einsum>=2.3.2 in d:\\avelyn\\avytareas\\dsleuven\\advanced_analytics_in_business\\assignment_2\\irproject\\lib\\site-packages (from tensorflow) (3.3.0)\n",
      "Requirement already satisfied: six>=1.12.0 in d:\\avelyn\\avytareas\\dsleuven\\advanced_analytics_in_business\\assignment_2\\irproject\\lib\\site-packages (from tensorflow) (1.16.0)\n",
      "Requirement already satisfied: keras-preprocessing>=1.1.1 in d:\\avelyn\\avytareas\\dsleuven\\advanced_analytics_in_business\\assignment_2\\irproject\\lib\\site-packages (from tensorflow) (1.1.2)\n",
      "Requirement already satisfied: libclang>=13.0.0 in d:\\avelyn\\avytareas\\dsleuven\\advanced_analytics_in_business\\assignment_2\\irproject\\lib\\site-packages (from tensorflow) (14.0.1)\n",
      "Requirement already satisfied: absl-py>=1.0.0 in d:\\avelyn\\avytareas\\dsleuven\\advanced_analytics_in_business\\assignment_2\\irproject\\lib\\site-packages (from tensorflow) (1.0.0)\n",
      "Requirement already satisfied: wrapt>=1.11.0 in d:\\avelyn\\avytareas\\dsleuven\\advanced_analytics_in_business\\assignment_2\\irproject\\lib\\site-packages (from tensorflow) (1.14.1)\n",
      "Requirement already satisfied: tensorflow-estimator<2.10.0,>=2.9.0rc0 in d:\\avelyn\\avytareas\\dsleuven\\advanced_analytics_in_business\\assignment_2\\irproject\\lib\\site-packages (from tensorflow) (2.9.0)\n",
      "Requirement already satisfied: keras<2.10.0,>=2.9.0rc0 in d:\\avelyn\\avytareas\\dsleuven\\advanced_analytics_in_business\\assignment_2\\irproject\\lib\\site-packages (from tensorflow) (2.9.0)\n",
      "Requirement already satisfied: packaging in d:\\avelyn\\avytareas\\dsleuven\\advanced_analytics_in_business\\assignment_2\\irproject\\lib\\site-packages (from tensorflow) (21.3)\n",
      "Requirement already satisfied: tensorflow-io-gcs-filesystem>=0.23.1 in d:\\avelyn\\avytareas\\dsleuven\\advanced_analytics_in_business\\assignment_2\\irproject\\lib\\site-packages (from tensorflow) (0.26.0)\n",
      "Requirement already satisfied: astunparse>=1.6.0 in d:\\avelyn\\avytareas\\dsleuven\\advanced_analytics_in_business\\assignment_2\\irproject\\lib\\site-packages (from tensorflow) (1.6.3)\n",
      "Requirement already satisfied: google-pasta>=0.1.1 in d:\\avelyn\\avytareas\\dsleuven\\advanced_analytics_in_business\\assignment_2\\irproject\\lib\\site-packages (from tensorflow) (0.2.0)\n",
      "Requirement already satisfied: protobuf>=3.9.2 in d:\\avelyn\\avytareas\\dsleuven\\advanced_analytics_in_business\\assignment_2\\irproject\\lib\\site-packages (from tensorflow) (3.20.1)\n",
      "Requirement already satisfied: termcolor>=1.1.0 in d:\\avelyn\\avytareas\\dsleuven\\advanced_analytics_in_business\\assignment_2\\irproject\\lib\\site-packages (from tensorflow) (1.1.0)\n",
      "Requirement already satisfied: gast<=0.4.0,>=0.2.1 in d:\\avelyn\\avytareas\\dsleuven\\advanced_analytics_in_business\\assignment_2\\irproject\\lib\\site-packages (from tensorflow) (0.4.0)\n",
      "Requirement already satisfied: h5py>=2.9.0 in d:\\avelyn\\avytareas\\dsleuven\\advanced_analytics_in_business\\assignment_2\\irproject\\lib\\site-packages (from tensorflow) (3.6.0)\n",
      "Requirement already satisfied: grpcio<2.0,>=1.24.3 in d:\\avelyn\\avytareas\\dsleuven\\advanced_analytics_in_business\\assignment_2\\irproject\\lib\\site-packages (from tensorflow) (1.46.1)\n",
      "Requirement already satisfied: setuptools in d:\\avelyn\\avytareas\\dsleuven\\advanced_analytics_in_business\\assignment_2\\irproject\\lib\\site-packages (from tensorflow) (56.0.0)\n",
      "Requirement already satisfied: flatbuffers<2,>=1.12 in d:\\avelyn\\avytareas\\dsleuven\\advanced_analytics_in_business\\assignment_2\\irproject\\lib\\site-packages (from tensorflow) (1.12)\n",
      "Requirement already satisfied: tensorboard<2.10,>=2.9 in d:\\avelyn\\avytareas\\dsleuven\\advanced_analytics_in_business\\assignment_2\\irproject\\lib\\site-packages (from tensorflow) (2.9.0)\n",
      "Requirement already satisfied: wheel<1.0,>=0.23.0 in d:\\avelyn\\avytareas\\dsleuven\\advanced_analytics_in_business\\assignment_2\\irproject\\lib\\site-packages (from astunparse>=1.6.0->tensorflow) (0.37.1)\n",
      "Requirement already satisfied: google-auth-oauthlib<0.5,>=0.4.1 in d:\\avelyn\\avytareas\\dsleuven\\advanced_analytics_in_business\\assignment_2\\irproject\\lib\\site-packages (from tensorboard<2.10,>=2.9->tensorflow) (0.4.6)\n",
      "Requirement already satisfied: google-auth<3,>=1.6.3 in d:\\avelyn\\avytareas\\dsleuven\\advanced_analytics_in_business\\assignment_2\\irproject\\lib\\site-packages (from tensorboard<2.10,>=2.9->tensorflow) (2.6.6)\n",
      "Requirement already satisfied: werkzeug>=1.0.1 in d:\\avelyn\\avytareas\\dsleuven\\advanced_analytics_in_business\\assignment_2\\irproject\\lib\\site-packages (from tensorboard<2.10,>=2.9->tensorflow) (2.1.2)\n",
      "Requirement already satisfied: markdown>=2.6.8 in d:\\avelyn\\avytareas\\dsleuven\\advanced_analytics_in_business\\assignment_2\\irproject\\lib\\site-packages (from tensorboard<2.10,>=2.9->tensorflow) (3.3.7)\n",
      "Requirement already satisfied: tensorboard-data-server<0.7.0,>=0.6.0 in d:\\avelyn\\avytareas\\dsleuven\\advanced_analytics_in_business\\assignment_2\\irproject\\lib\\site-packages (from tensorboard<2.10,>=2.9->tensorflow) (0.6.1)\n",
      "Requirement already satisfied: tensorboard-plugin-wit>=1.6.0 in d:\\avelyn\\avytareas\\dsleuven\\advanced_analytics_in_business\\assignment_2\\irproject\\lib\\site-packages (from tensorboard<2.10,>=2.9->tensorflow) (1.8.1)\n",
      "Requirement already satisfied: cachetools<6.0,>=2.0.0 in d:\\avelyn\\avytareas\\dsleuven\\advanced_analytics_in_business\\assignment_2\\irproject\\lib\\site-packages (from google-auth<3,>=1.6.3->tensorboard<2.10,>=2.9->tensorflow) (5.1.0)\n",
      "Requirement already satisfied: pyasn1-modules>=0.2.1 in d:\\avelyn\\avytareas\\dsleuven\\advanced_analytics_in_business\\assignment_2\\irproject\\lib\\site-packages (from google-auth<3,>=1.6.3->tensorboard<2.10,>=2.9->tensorflow) (0.2.8)\n",
      "Requirement already satisfied: rsa<5,>=3.1.4 in d:\\avelyn\\avytareas\\dsleuven\\advanced_analytics_in_business\\assignment_2\\irproject\\lib\\site-packages (from google-auth<3,>=1.6.3->tensorboard<2.10,>=2.9->tensorflow) (4.8)\n",
      "Requirement already satisfied: requests-oauthlib>=0.7.0 in d:\\avelyn\\avytareas\\dsleuven\\advanced_analytics_in_business\\assignment_2\\irproject\\lib\\site-packages (from google-auth-oauthlib<0.5,>=0.4.1->tensorboard<2.10,>=2.9->tensorflow) (1.3.1)\n",
      "Requirement already satisfied: importlib-metadata>=4.4 in d:\\avelyn\\avytareas\\dsleuven\\advanced_analytics_in_business\\assignment_2\\irproject\\lib\\site-packages (from markdown>=2.6.8->tensorboard<2.10,>=2.9->tensorflow) (4.11.3)\n",
      "Requirement already satisfied: zipp>=0.5 in d:\\avelyn\\avytareas\\dsleuven\\advanced_analytics_in_business\\assignment_2\\irproject\\lib\\site-packages (from importlib-metadata>=4.4->markdown>=2.6.8->tensorboard<2.10,>=2.9->tensorflow) (3.8.0)\n",
      "Requirement already satisfied: pyasn1<0.5.0,>=0.4.6 in d:\\avelyn\\avytareas\\dsleuven\\advanced_analytics_in_business\\assignment_2\\irproject\\lib\\site-packages (from pyasn1-modules>=0.2.1->google-auth<3,>=1.6.3->tensorboard<2.10,>=2.9->tensorflow) (0.4.8)\n",
      "Requirement already satisfied: idna<4,>=2.5 in d:\\avelyn\\avytareas\\dsleuven\\advanced_analytics_in_business\\assignment_2\\irproject\\lib\\site-packages (from requests->torchvision) (2.10)\n",
      "Requirement already satisfied: charset-normalizer~=2.0.0 in d:\\avelyn\\avytareas\\dsleuven\\advanced_analytics_in_business\\assignment_2\\irproject\\lib\\site-packages (from requests->torchvision) (2.0.12)\n",
      "Requirement already satisfied: urllib3<1.27,>=1.21.1 in d:\\avelyn\\avytareas\\dsleuven\\advanced_analytics_in_business\\assignment_2\\irproject\\lib\\site-packages (from requests->torchvision) (1.26.6)\n",
      "Requirement already satisfied: certifi>=2017.4.17 in d:\\avelyn\\avytareas\\dsleuven\\advanced_analytics_in_business\\assignment_2\\irproject\\lib\\site-packages (from requests->torchvision) (2021.5.30)\n",
      "Requirement already satisfied: oauthlib>=3.0.0 in d:\\avelyn\\avytareas\\dsleuven\\advanced_analytics_in_business\\assignment_2\\irproject\\lib\\site-packages (from requests-oauthlib>=0.7.0->google-auth-oauthlib<0.5,>=0.4.1->tensorboard<2.10,>=2.9->tensorflow) (3.2.0)\n",
      "Requirement already satisfied: pyparsing!=3.0.5,>=2.0.2 in d:\\avelyn\\avytareas\\dsleuven\\advanced_analytics_in_business\\assignment_2\\irproject\\lib\\site-packages (from packaging->tensorflow) (2.4.7)\n",
      "Note: you may need to restart the kernel to use updated packages.\n"
     ]
    },
    {
     "name": "stderr",
     "output_type": "stream",
     "text": [
      "WARNING: You are using pip version 21.1.1; however, version 22.1 is available.\n",
      "You should consider upgrading via the 'D:\\Avelyn\\AvyTareas\\DSleuven\\Advanced_Analytics_in_Business\\Assignment_2\\IRProject\\Scripts\\python.exe -m pip install --upgrade pip' command.\n"
     ]
    }
   ],
   "source": [
    "%pip install torch torchvision pillow tensorflow"
   ]
  },
  {
   "cell_type": "code",
   "execution_count": 1,
   "id": "d33297d1-c77d-4783-baae-76d249c0f286",
   "metadata": {},
   "outputs": [],
   "source": [
    "# Libraries\n",
    "from pathlib import Path\n",
    "from PIL import Image\n",
    "import cv2\n",
    "import os\n",
    "import random\n",
    "import numpy as np\n",
    "import pandas as pd\n",
    "import keras_resnet"
   ]
  },
  {
   "cell_type": "code",
   "execution_count": 2,
   "id": "33bba44c-c187-43a4-b157-34639b572f97",
   "metadata": {},
   "outputs": [
    {
     "name": "stdout",
     "output_type": "stream",
     "text": [
      "D:\\Avelyn\\AvyTareas\\DSleuven\\Advanced_Analytics_in_Business\\Assignment_2\\Project\n"
     ]
    }
   ],
   "source": [
    "# Basics paths\n",
    "base_path = Path(os.path.dirname(os.path.realpath(\"__file__\")))  # Where is located this jupyter file\n",
    "images_dir_path = base_path / \"images\"                           # Change this if the images folder is in another place \n",
    "metadata_path = base_path / \"metadata.json\"\n",
    "print(base_path)"
   ]
  },
  {
   "cell_type": "code",
   "execution_count": 3,
   "id": "58e33e33-9b0b-48d3-b465-ea785966fdfd",
   "metadata": {},
   "outputs": [],
   "source": [
    "# Create RetinaNet directory\n",
    "Path(base_path / \"RetNet\").resolve().mkdir(parents=True, exist_ok=True)\n",
    "retnet_path = base_path / \"RetNet\""
   ]
  },
  {
   "cell_type": "markdown",
   "id": "f30427b7-4e32-4057-901f-92d5f6fe091c",
   "metadata": {},
   "source": [
    "-------------------------------------------------------------------------------------------------------------------------------------------------------------------------------------------------------\n",
    "Cells to run once!!!"
   ]
  },
  {
   "cell_type": "code",
   "execution_count": 4,
   "id": "ef03fd42-44aa-4078-bd82-6bcc2bab80ec",
   "metadata": {},
   "outputs": [
    {
     "name": "stdout",
     "output_type": "stream",
     "text": [
      "D:\\Avelyn\\AvyTareas\\DSleuven\\Advanced_Analytics_in_Business\\Assignment_2\\Project\\RetNet\n",
      "D:\\Avelyn\\AvyTareas\\DSleuven\\Advanced_Analytics_in_Business\\Assignment_2\\Project\n"
     ]
    }
   ],
   "source": [
    "# Install the clone new folder (run this once)\n",
    "%cd RetNet\n",
    "if 'keras-retinanet' in os.listdir('.'):\n",
    "    pass\n",
    "else:\n",
    "    !git clone https://github.com/fizyr/keras-retinanet\n",
    "%cd .."
   ]
  },
  {
   "cell_type": "code",
   "execution_count": 5,
   "id": "c873a71f-a60b-4698-b7b5-9909e4224161",
   "metadata": {},
   "outputs": [
    {
     "name": "stdout",
     "output_type": "stream",
     "text": [
      "D:\\Avelyn\\AvyTareas\\DSleuven\\Advanced_Analytics_in_Business\\Assignment_2\\Project\\RetNet\n",
      "D:\\Avelyn\\AvyTareas\\DSleuven\\Advanced_Analytics_in_Business\\Assignment_2\\Project\n"
     ]
    }
   ],
   "source": [
    "# Install the clone new folder (run this once)\n",
    "%cd RetNet\n",
    "if 'Retinanet-Tutorial' in os.listdir('.'):\n",
    "    pass\n",
    "else:\n",
    "    !git clone https://github.com/jaspereb/Retinanet-Tutorial\n",
    "%cd .."
   ]
  },
  {
   "cell_type": "code",
   "execution_count": 14,
   "id": "3722b2c0-47e3-42b7-af61-cfbb390af6c3",
   "metadata": {},
   "outputs": [
    {
     "name": "stdout",
     "output_type": "stream",
     "text": [
      "D:\\Avelyn\\AvyTareas\\DSleuven\\Advanced_Analytics_in_Business\\Assignment_2\\Project\\RetNet\\keras-retinanet\n",
      "^C\n",
      "D:\\Avelyn\\AvyTareas\\DSleuven\\Advanced_Analytics_in_Business\\Assignment_2\\Project\n",
      "Looking in indexes: https://pypi.org/simple, https://pypi.ngc.nvidia.com\n",
      "Processing d:\\avelyn\\avytareas\\dsleuven\\advanced_analytics_in_business\\assignment_2\\project\\retnet\\keras-retinanet\n",
      "  Preparing metadata (setup.py): started\n",
      "  Preparing metadata (setup.py): finished with status 'done'\n",
      "Requirement already satisfied: yes in c:\\users\\avelyn\\appdata\\roaming\\python\\python39\\site-packages (0.0.1)\n",
      "Requirement already satisfied: keras-resnet==0.2.0 in c:\\users\\avelyn\\appdata\\roaming\\python\\python39\\site-packages (from keras-retinanet==1.0.0) (0.2.0)\n",
      "Requirement already satisfied: six in c:\\users\\avelyn\\appdata\\local\\programs\\python\\python39\\lib\\site-packages (from keras-retinanet==1.0.0) (1.16.0)\n",
      "Requirement already satisfied: numpy in c:\\users\\avelyn\\appdata\\local\\programs\\python\\python39\\lib\\site-packages (from keras-retinanet==1.0.0) (1.22.4)\n",
      "Requirement already satisfied: cython in c:\\users\\avelyn\\appdata\\roaming\\python\\python39\\site-packages (from keras-retinanet==1.0.0) (0.29.30)\n",
      "Requirement already satisfied: Pillow in c:\\users\\avelyn\\appdata\\local\\programs\\python\\python39\\lib\\site-packages (from keras-retinanet==1.0.0) (9.0.1)\n",
      "Requirement already satisfied: opencv-python in c:\\users\\avelyn\\appdata\\local\\programs\\python\\python39\\lib\\site-packages (from keras-retinanet==1.0.0) (4.5.5.64)\n",
      "Requirement already satisfied: progressbar2 in c:\\users\\avelyn\\appdata\\local\\programs\\python\\python39\\lib\\site-packages (from keras-retinanet==1.0.0) (4.0.0)\n",
      "Requirement already satisfied: keras>=2.2.4 in c:\\users\\avelyn\\appdata\\local\\programs\\python\\python39\\lib\\site-packages (from keras-resnet==0.2.0->keras-retinanet==1.0.0) (2.9.0)\n",
      "Requirement already satisfied: sphinx in c:\\users\\avelyn\\appdata\\roaming\\python\\python39\\site-packages (from yes) (4.5.0)\n",
      "Requirement already satisfied: sphinx-rtd-theme in c:\\users\\avelyn\\appdata\\roaming\\python\\python39\\site-packages (from yes) (1.0.0)\n",
      "Requirement already satisfied: coverage in c:\\users\\avelyn\\appdata\\roaming\\python\\python39\\site-packages (from yes) (6.3.3)\n",
      "Requirement already satisfied: pypi-publisher in c:\\users\\avelyn\\appdata\\roaming\\python\\python39\\site-packages (from yes) (0.0.4)\n",
      "Requirement already satisfied: nose in c:\\users\\avelyn\\appdata\\roaming\\python\\python39\\site-packages (from yes) (1.3.7)\n",
      "Requirement already satisfied: python-utils>=3.0.0 in c:\\users\\avelyn\\appdata\\local\\programs\\python\\python39\\lib\\site-packages (from progressbar2->keras-retinanet==1.0.0) (3.2.3)\n",
      "Requirement already satisfied: gitpython==0.3.6 in c:\\users\\avelyn\\appdata\\roaming\\python\\python39\\site-packages (from pypi-publisher->yes) (0.3.6)\n",
      "Requirement already satisfied: gitdb>=0.6.4 in c:\\users\\avelyn\\appdata\\roaming\\python\\python39\\site-packages (from gitpython==0.3.6->pypi-publisher->yes) (4.0.9)\n",
      "Requirement already satisfied: sphinxcontrib-applehelp in c:\\users\\avelyn\\appdata\\roaming\\python\\python39\\site-packages (from sphinx->yes) (1.0.2)\n",
      "Requirement already satisfied: sphinxcontrib-jsmath in c:\\users\\avelyn\\appdata\\roaming\\python\\python39\\site-packages (from sphinx->yes) (1.0.1)\n",
      "Requirement already satisfied: importlib-metadata>=4.4 in c:\\users\\avelyn\\appdata\\local\\programs\\python\\python39\\lib\\site-packages (from sphinx->yes) (4.11.0)\n",
      "Requirement already satisfied: imagesize in c:\\users\\avelyn\\appdata\\roaming\\python\\python39\\site-packages (from sphinx->yes) (1.3.0)\n",
      "Requirement already satisfied: alabaster<0.8,>=0.7 in c:\\users\\avelyn\\appdata\\roaming\\python\\python39\\site-packages (from sphinx->yes) (0.7.12)\n",
      "Requirement already satisfied: Pygments>=2.0 in c:\\users\\avelyn\\appdata\\local\\programs\\python\\python39\\lib\\site-packages (from sphinx->yes) (2.11.2)\n",
      "Requirement already satisfied: snowballstemmer>=1.1 in c:\\users\\avelyn\\appdata\\roaming\\python\\python39\\site-packages (from sphinx->yes) (2.2.0)\n",
      "Requirement already satisfied: sphinxcontrib-htmlhelp>=2.0.0 in c:\\users\\avelyn\\appdata\\roaming\\python\\python39\\site-packages (from sphinx->yes) (2.0.0)\n",
      "Requirement already satisfied: docutils<0.18,>=0.14 in c:\\users\\avelyn\\appdata\\roaming\\python\\python39\\site-packages (from sphinx->yes) (0.17.1)\n",
      "Requirement already satisfied: sphinxcontrib-serializinghtml>=1.1.5 in c:\\users\\avelyn\\appdata\\roaming\\python\\python39\\site-packages (from sphinx->yes) (1.1.5)\n",
      "Requirement already satisfied: babel>=1.3 in c:\\users\\avelyn\\appdata\\local\\programs\\python\\python39\\lib\\site-packages (from sphinx->yes) (2.9.1)\n",
      "Requirement already satisfied: requests>=2.5.0 in c:\\users\\avelyn\\appdata\\local\\programs\\python\\python39\\lib\\site-packages (from sphinx->yes) (2.27.1)\n",
      "Requirement already satisfied: sphinxcontrib-qthelp in c:\\users\\avelyn\\appdata\\roaming\\python\\python39\\site-packages (from sphinx->yes) (1.0.3)\n",
      "Requirement already satisfied: sphinxcontrib-devhelp in c:\\users\\avelyn\\appdata\\roaming\\python\\python39\\site-packages (from sphinx->yes) (1.0.2)\n",
      "Requirement already satisfied: Jinja2>=2.3 in c:\\users\\avelyn\\appdata\\local\\programs\\python\\python39\\lib\\site-packages (from sphinx->yes) (3.0.3)\n",
      "Requirement already satisfied: packaging in c:\\users\\avelyn\\appdata\\local\\programs\\python\\python39\\lib\\site-packages (from sphinx->yes) (21.3)\n",
      "Requirement already satisfied: colorama>=0.3.5 in c:\\users\\avelyn\\appdata\\roaming\\python\\python39\\site-packages (from sphinx->yes) (0.4.4)\n",
      "Requirement already satisfied: pytz>=2015.7 in c:\\users\\avelyn\\appdata\\local\\programs\\python\\python39\\lib\\site-packages (from babel>=1.3->sphinx->yes) (2021.3)\n",
      "Requirement already satisfied: zipp>=0.5 in c:\\users\\avelyn\\appdata\\local\\programs\\python\\python39\\lib\\site-packages (from importlib-metadata>=4.4->sphinx->yes) (3.7.0)\n",
      "Requirement already satisfied: MarkupSafe>=2.0 in c:\\users\\avelyn\\appdata\\local\\programs\\python\\python39\\lib\\site-packages (from Jinja2>=2.3->sphinx->yes) (2.0.1)\n",
      "Requirement already satisfied: idna<4,>=2.5 in c:\\users\\avelyn\\appdata\\local\\programs\\python\\python39\\lib\\site-packages (from requests>=2.5.0->sphinx->yes) (2.10)\n",
      "Requirement already satisfied: certifi>=2017.4.17 in c:\\users\\avelyn\\appdata\\local\\programs\\python\\python39\\lib\\site-packages (from requests>=2.5.0->sphinx->yes) (2021.5.30)\n",
      "Requirement already satisfied: urllib3<1.27,>=1.21.1 in c:\\users\\avelyn\\appdata\\local\\programs\\python\\python39\\lib\\site-packages (from requests>=2.5.0->sphinx->yes) (1.26.6)\n",
      "Requirement already satisfied: charset-normalizer~=2.0.0 in c:\\users\\avelyn\\appdata\\local\\programs\\python\\python39\\lib\\site-packages (from requests>=2.5.0->sphinx->yes) (2.0.12)\n",
      "Requirement already satisfied: pyparsing!=3.0.5,>=2.0.2 in c:\\users\\avelyn\\appdata\\local\\programs\\python\\python39\\lib\\site-packages (from packaging->sphinx->yes) (2.4.7)\n",
      "Requirement already satisfied: smmap<6,>=3.0.1 in c:\\users\\avelyn\\appdata\\roaming\\python\\python39\\site-packages (from gitdb>=0.6.4->gitpython==0.3.6->pypi-publisher->yes) (5.0.0)\n",
      "Building wheels for collected packages: keras-retinanet\n",
      "  Building wheel for keras-retinanet (setup.py): started\n",
      "  Building wheel for keras-retinanet (setup.py): finished with status 'done'\n",
      "  Created wheel for keras-retinanet: filename=keras_retinanet-1.0.0-cp39-cp39-win_amd64.whl size=128833 sha256=e5f928e225125ffc690a97fea9121926c7c6c407e62f0c14cde1848c84b1680d\n",
      "  Stored in directory: C:\\Users\\Avelyn\\AppData\\Local\\Temp\\pip-ephem-wheel-cache-uimi2kp9\\wheels\\20\\70\\07\\653e353016d8feba39901927f3bb8a3308d594768475b93921\n",
      "Successfully built keras-retinanet\n",
      "Installing collected packages: keras-retinanet\n",
      "  Attempting uninstall: keras-retinanet\n",
      "    Found existing installation: keras-retinanet 1.0.0\n",
      "    Uninstalling keras-retinanet-1.0.0:\n",
      "      Successfully uninstalled keras-retinanet-1.0.0\n",
      "Successfully installed keras-retinanet-1.0.0\n"
     ]
    },
    {
     "name": "stderr",
     "output_type": "stream",
     "text": [
      "  WARNING: The scripts retinanet-convert-model.exe, retinanet-debug.exe, retinanet-evaluate.exe and retinanet-train.exe are installed in 'C:\\Users\\Avelyn\\AppData\\Roaming\\Python\\Python39\\Scripts' which is not on PATH.\n",
      "  Consider adding this directory to PATH or, if you prefer to suppress this warning, use --no-warn-script-location.\n"
     ]
    }
   ],
   "source": [
    "# Compile the repository (run this once)\n",
    "%cd RetNet/keras-retinanet\n",
    "!pip install . --user yes\n",
    "%cd ../.."
   ]
  },
  {
   "cell_type": "markdown",
   "id": "5c71ee84-36d4-4eec-bf09-b6b81492f606",
   "metadata": {},
   "source": [
    "-----------------------------------------------------------------------------------------------------------------------------------"
   ]
  },
  {
   "cell_type": "code",
   "execution_count": 21,
   "id": "32fa60d9-0cb8-4421-92c3-1bc08b6c76c5",
   "metadata": {},
   "outputs": [],
   "source": [
    "# Functions for later\n",
    "\n",
    "# Function necessary to create the labels txt\n",
    "def get_squares(elem_bxy, images_size=[264, 264, 1]):        \n",
    "    xs = [j[\"x\"] for j in elem_bxy]\n",
    "    ys = [j[\"y\"] for j in elem_bxy]\n",
    "    x_min = min(xs) #- (max(xs) - min(xs))*0.1\n",
    "    y_min = min(ys) #- (max(ys) - min(ys))*0.1\n",
    "    x_max = max(xs) #+ (max(xs) - min(xs))*0.1\n",
    "    y_max = max(ys) #+ (max(ys) - min(ys))*0.1\n",
    "    return [{'size': images_size, \"x_min\": max(1, x_min), \"y_min\": max(1, y_min), \"x_max\": min(images_size[1], x_max), \"y_max\": min(images_size[1], y_max)}]"
   ]
  },
  {
   "cell_type": "code",
   "execution_count": 22,
   "id": "7bfef85f-93d6-4174-bba8-843c6157fd30",
   "metadata": {},
   "outputs": [
    {
     "data": {
      "text/html": [
       "<div>\n",
       "<style scoped>\n",
       "    .dataframe tbody tr th:only-of-type {\n",
       "        vertical-align: middle;\n",
       "    }\n",
       "\n",
       "    .dataframe tbody tr th {\n",
       "        vertical-align: top;\n",
       "    }\n",
       "\n",
       "    .dataframe thead th {\n",
       "        text-align: right;\n",
       "    }\n",
       "</style>\n",
       "<table border=\"1\" class=\"dataframe\">\n",
       "  <thead>\n",
       "    <tr style=\"text-align: right;\">\n",
       "      <th></th>\n",
       "      <th>has_pool</th>\n",
       "      <th>center</th>\n",
       "      <th>bounds_lat_lon</th>\n",
       "      <th>bounds_x_y</th>\n",
       "      <th>bounds_square</th>\n",
       "    </tr>\n",
       "  </thead>\n",
       "  <tbody>\n",
       "    <tr>\n",
       "      <th>42.7363609_2.8868181.png</th>\n",
       "      <td>True</td>\n",
       "      <td>{'lat': 42.7363609, 'lon': 2.8868181}</td>\n",
       "      <td>[{'lat': 42.7364046, 'lon': 2.8867693}, {'lat'...</td>\n",
       "      <td>[{'x': 219.88854424638464, 'y': 197.9724640370...</td>\n",
       "      <td>[{'size': (512, 512, 3), 'x_min': 199.24285541...</td>\n",
       "    </tr>\n",
       "    <tr>\n",
       "      <th>42.7008031_2.906998.png</th>\n",
       "      <td>True</td>\n",
       "      <td>{'lat': 42.7008031, 'lon': 2.9069979999999997}</td>\n",
       "      <td>[{'lat': 42.700821, 'lon': 2.9069484}, {'lat':...</td>\n",
       "      <td>[{'x': 219.31757991040274, 'y': 223.9864984406...</td>\n",
       "      <td>[{'size': (512, 512, 3), 'x_min': 217.02492867...</td>\n",
       "    </tr>\n",
       "    <tr>\n",
       "      <th>42.6892307_2.9110119.png</th>\n",
       "      <td>True</td>\n",
       "      <td>{'lat': 42.6892307, 'lon': 2.9110119}</td>\n",
       "      <td>[{'lat': 42.6891823, 'lon': 2.9110157}, {'lat'...</td>\n",
       "      <td>[{'x': 258.80982304681845, 'y': 290.6887228406...</td>\n",
       "      <td>[{'size': (512, 512, 3), 'x_min': 215.62727932...</td>\n",
       "    </tr>\n",
       "    <tr>\n",
       "      <th>44.5015552_0.1670612.png</th>\n",
       "      <td>True</td>\n",
       "      <td>{'lat': 44.5015552, 'lon': 0.1670612}</td>\n",
       "      <td>[{'lat': 44.5015798, 'lon': 0.1670115999999999...</td>\n",
       "      <td>[{'x': 218.20287511855798, 'y': 215.7165834111...</td>\n",
       "      <td>[{'size': (512, 512, 3), 'x_min': 218.20287511...</td>\n",
       "    </tr>\n",
       "    <tr>\n",
       "      <th>43.3741395_3.3383116.png</th>\n",
       "      <td>True</td>\n",
       "      <td>{'lat': 43.3741395, 'lon': 3.3383116}</td>\n",
       "      <td>[{'lat': 43.3742033, 'lon': 3.3383698}, {'lat'...</td>\n",
       "      <td>[{'x': 299.5176070846709, 'y': 176.37075727338...</td>\n",
       "      <td>[{'size': (512, 512, 3), 'x_min': 177.63839821...</td>\n",
       "    </tr>\n",
       "  </tbody>\n",
       "</table>\n",
       "</div>"
      ],
      "text/plain": [
       "                         has_pool  \\\n",
       "42.7363609_2.8868181.png     True   \n",
       "42.7008031_2.906998.png      True   \n",
       "42.6892307_2.9110119.png     True   \n",
       "44.5015552_0.1670612.png     True   \n",
       "43.3741395_3.3383116.png     True   \n",
       "\n",
       "                                                                  center  \\\n",
       "42.7363609_2.8868181.png           {'lat': 42.7363609, 'lon': 2.8868181}   \n",
       "42.7008031_2.906998.png   {'lat': 42.7008031, 'lon': 2.9069979999999997}   \n",
       "42.6892307_2.9110119.png           {'lat': 42.6892307, 'lon': 2.9110119}   \n",
       "44.5015552_0.1670612.png           {'lat': 44.5015552, 'lon': 0.1670612}   \n",
       "43.3741395_3.3383116.png           {'lat': 43.3741395, 'lon': 3.3383116}   \n",
       "\n",
       "                                                             bounds_lat_lon  \\\n",
       "42.7363609_2.8868181.png  [{'lat': 42.7364046, 'lon': 2.8867693}, {'lat'...   \n",
       "42.7008031_2.906998.png   [{'lat': 42.700821, 'lon': 2.9069484}, {'lat':...   \n",
       "42.6892307_2.9110119.png  [{'lat': 42.6891823, 'lon': 2.9110157}, {'lat'...   \n",
       "44.5015552_0.1670612.png  [{'lat': 44.5015798, 'lon': 0.1670115999999999...   \n",
       "43.3741395_3.3383116.png  [{'lat': 43.3742033, 'lon': 3.3383698}, {'lat'...   \n",
       "\n",
       "                                                                 bounds_x_y  \\\n",
       "42.7363609_2.8868181.png  [{'x': 219.88854424638464, 'y': 197.9724640370...   \n",
       "42.7008031_2.906998.png   [{'x': 219.31757991040274, 'y': 223.9864984406...   \n",
       "42.6892307_2.9110119.png  [{'x': 258.80982304681845, 'y': 290.6887228406...   \n",
       "44.5015552_0.1670612.png  [{'x': 218.20287511855798, 'y': 215.7165834111...   \n",
       "43.3741395_3.3383116.png  [{'x': 299.5176070846709, 'y': 176.37075727338...   \n",
       "\n",
       "                                                              bounds_square  \n",
       "42.7363609_2.8868181.png  [{'size': (512, 512, 3), 'x_min': 199.24285541...  \n",
       "42.7008031_2.906998.png   [{'size': (512, 512, 3), 'x_min': 217.02492867...  \n",
       "42.6892307_2.9110119.png  [{'size': (512, 512, 3), 'x_min': 215.62727932...  \n",
       "44.5015552_0.1670612.png  [{'size': (512, 512, 3), 'x_min': 218.20287511...  \n",
       "43.3741395_3.3383116.png  [{'size': (512, 512, 3), 'x_min': 177.63839821...  "
      ]
     },
     "execution_count": 22,
     "metadata": {},
     "output_type": "execute_result"
    }
   ],
   "source": [
    "# Open the dictionary with pandas (Key values: name of the image (42.6339681_2.8641433.png), \n",
    "#                                  Values: has_pool:boolean, center: dict(lat,lon), bounds_lat_lon: dict(lat,lon), \n",
    "#                                          bounds_x_y: dict(x,y))\n",
    "\n",
    "df_metadata = pd.read_json(metadata_path, orient=\"value\")\n",
    "df_metadata = df_metadata.T\n",
    "\n",
    "images_name = os.listdir(images_dir_path)                              \n",
    "img_save = cv2.imread(os.path.join(images_dir_path, images_name[10]))  # We take the size of a sample image, this works because all images have the same size\n",
    "\n",
    "df_metadata[\"bounds_square\"] = df_metadata[\"bounds_x_y\"].apply(lambda x: get_squares(x, img_save.shape))       # We got the size of the of the image previous\n",
    "df_metadata.head()"
   ]
  },
  {
   "cell_type": "code",
   "execution_count": 8,
   "id": "9ea0c276-5c82-41a2-bcc9-8007af56449f",
   "metadata": {},
   "outputs": [],
   "source": [
    "# Create the 3 basic folder in ResNet\n",
    "\n",
    "Path(retnet_path / \"Pools\").resolve().mkdir(parents=True, exist_ok=True)\n",
    "pools_path = retnet_path / \"Pools\"\n",
    "Path(pools_path / \"Annotations\").resolve().mkdir(parents=True, exist_ok=True)\n",
    "Path(pools_path / \"ImageSets\").resolve().mkdir(parents=True, exist_ok=True)\n",
    "Path(pools_path / \"JPEGImages\").resolve().mkdir(parents=True, exist_ok=True)"
   ]
  },
  {
   "cell_type": "code",
   "execution_count": 9,
   "id": "0268e2a8-9cf4-48c0-9a84-719c745b5bcd",
   "metadata": {},
   "outputs": [],
   "source": [
    "# Selected the images for training, validation and test\n",
    "\n",
    "random.seed(1)\n",
    "old_images_name = images_name\n",
    "random.shuffle(images_name)\n",
    "s1 = int(len(images_name)*0.7)\n",
    "s2 = s1 + int((len(images_name)-s1)/2)\n",
    "\n",
    "train_imgs = images_name[:s1]\n",
    "val_imgs = images_name[s1:s2]\n",
    "test_imgs = images_name[s2:]"
   ]
  },
  {
   "cell_type": "code",
   "execution_count": 15,
   "id": "6d4a11ba-97ff-45c7-97bc-7b7cbbf13af0",
   "metadata": {},
   "outputs": [
    {
     "name": "stdout",
     "output_type": "stream",
     "text": [
      "Transformimg image 42.7028603_2.8301305.png 14912/14912  "
     ]
    }
   ],
   "source": [
    "# Tranform the images from png to jpeg\n",
    "\n",
    "if os.listdir(pools_path / \"JPEGImages\") == [] or \".ipynb_checkpoints\" in os.listdir(pools_path / \"JPEGImages\"):\n",
    "    path_to_jpeg = pools_path / \"JPEGImages\"\n",
    "    i = 1\n",
    "    total = len(old_images_name)\n",
    "    for image in old_images_name:\n",
    "        print(f\"\\rTransformimg image {image} {i}/{total} \", end=\"\")\n",
    "        im = Image.open(images_dir_path / image)\n",
    "        rgb_im = im.convert('RGB')\n",
    "        filename = str(image)[:-4] + \".jpg\"\n",
    "        rgb_im.save(path_to_jpeg / filename)\n",
    "        i+=1\n",
    "else:\n",
    "    if len(os.listdir(pools_path / \"JPEGImages\")) > 10:\n",
    "        print(str(os.listdir(pools_path / \"JPEGImages\")[:10],) + ' ...')\n",
    "    else:\n",
    "        print(os.listdir(pools_path / \"JPEGImages\"),)\n",
    "    pass"
   ]
  },
  {
   "cell_type": "code",
   "execution_count": 16,
   "id": "a07d96f3-1c06-4389-b8fa-df7e3b7dbd16",
   "metadata": {},
   "outputs": [
    {
     "name": "stdout",
     "output_type": "stream",
     "text": [
      "14912 14912\n"
     ]
    }
   ],
   "source": [
    "# Check if the conversaion if fine\n",
    "\n",
    "print(len(os.listdir(pools_path / \"JPEGImages\")), len(old_images_name))"
   ]
  },
  {
   "cell_type": "code",
   "execution_count": 29,
   "id": "828882f7-4311-4225-8b79-a94fbd068e3e",
   "metadata": {},
   "outputs": [
    {
     "name": "stdout",
     "output_type": "stream",
     "text": [
      "Annotating image 42.7028603_2.8301305.png 14912/14912  "
     ]
    }
   ],
   "source": [
    "# Annotate the images in the Annotations folder\n",
    "\n",
    "path_to_jpeg = pools_path / \"JPEGImages\"\n",
    "i = 1\n",
    "total = len(old_images_name)\n",
    "for image in old_images_name:\n",
    "    filename = str(image)[:-4] + \".xml\"\n",
    "    print(f\"\\rAnnotating image {image} {i}/{total} \", end=\"\")\n",
    "    with open(os.path.join(pools_path,\"Annotations/\",filename), \"w\") as f:\n",
    "        image_jpg = str(image)[:-4] + \".jpg\"\n",
    "        f.flush()\n",
    "        line = '<annotation verified=\"yes\">\\n\\t<folder>images</folder>\\n\\t<filename>'+ image_jpg + '</filename>\\n\\t'\n",
    "        f.write(line)\n",
    "        line = '<path>'+ str(path_to_jpeg) + '\\\\' + image_jpg +'</path>\\n\\t<source>\\n\\t\\t<database>Unknown</database>\\n\\t</source>\\n\\t'\n",
    "        f.write(line)\n",
    "        line = '<size>\\n\\t\\t' + '<width>'+ str(df_metadata.loc[image][\"bounds_square\"][0][\"size\"][0]) +'</width>\\n\\t\\t'\n",
    "        f.write(line)\n",
    "        line = '<height>'+ str(df_metadata.loc[image][\"bounds_square\"][0][\"size\"][1]) +'</height>\\n\\t\\t' \n",
    "        f.write(line)\n",
    "        line = '<depth>'+ str(df_metadata.loc[image][\"bounds_square\"][0][\"size\"][2]) +'</depth>\\n\\t</size>\\n\\t'\n",
    "        f.write(line)\n",
    "        line = '<segmented>0</segmented>\\n\\t<object>\\n\\t\\t<name>swimmingpool</name>\\n\\t\\t<pose>Unspecified</pose>\\n\\t\\t'\n",
    "        f.write(line)\n",
    "        line = '<truncated>0</truncated>\\n\\t\\t<difficult>0</difficult>\\n\\t\\t<bndbox>\\n\\t\\t\\t'\n",
    "        f.write(line)\n",
    "        line = '<xmin>'+ str(int(df_metadata.loc[image][\"bounds_square\"][0][\"x_min\"])) +'</xmin>\\n\\t\\t\\t' \n",
    "        if (int(df_metadata.loc[image][\"bounds_square\"][0][\"x_min\"])) <0:\n",
    "            print(int(df_metadata.loc[image][\"bounds_square\"][0][\"x_min\"]), image_jpg)\n",
    "        f.write(line)\n",
    "        line = '<ymin>'+ str(int(df_metadata.loc[image][\"bounds_square\"][0][\"y_min\"])) +'</ymin>\\n\\t\\t\\t'\n",
    "        f.write(line)\n",
    "        line = '<xmax>'+ str(int(df_metadata.loc[image][\"bounds_square\"][0][\"x_max\"])) +'</xmax>\\n\\t\\t\\t' \n",
    "        f.write(line)\n",
    "        line = '<ymax>'+ str(int(df_metadata.loc[image][\"bounds_square\"][0][\"y_max\"])) +'</ymax>\\n\\t\\t'\n",
    "        f.write(line)\n",
    "        line = '</bndbox>\\n\\t</object>\\n</annotation>'\n",
    "        f.write(line)\n",
    "    i+=1\n"
   ]
  },
  {
   "cell_type": "code",
   "execution_count": 18,
   "id": "a4b0f007-b2cd-4ffe-b33d-81025997d67f",
   "metadata": {},
   "outputs": [],
   "source": [
    "# Separated images in training, validation and test sets\n",
    "\n",
    "Path(pools_path / \"ImageSets\" / \"Main\").resolve().mkdir(parents=True, exist_ok=True)\n",
    "\n",
    "text_path = pools_path / \"ImageSets\" / \"Main\"\n",
    "trainval_images = train_imgs + val_imgs\n",
    "\n",
    "if os.listdir(text_path) == [] or \".ipynb_checkpoints\" in os.listdir(text_path):\n",
    "    with open(text_path/\"train.txt\", \"w\") as f:\n",
    "        for image in train_imgs:\n",
    "            image_jpg = str(image)[:-4]\n",
    "            line = image_jpg + \"\\n\"\n",
    "            f.write(line)\n",
    "    with open(text_path/\"trainval.txt\", \"w\") as f:\n",
    "        for image in trainval_images:\n",
    "            image_jpg = str(image)[:-4]\n",
    "            line = image_jpg + \"\\n\"\n",
    "            f.write(line)\n",
    "    with open(text_path/\"val.txt\", \"w\") as f:\n",
    "        for image in val_imgs:\n",
    "            image_jpg = str(image)[:-4]\n",
    "            line = image_jpg + \"\\n\"\n",
    "            f.write(line)\n",
    "else:\n",
    "    print(os.listdir(text_path))\n",
    "    pass"
   ]
  },
  {
   "cell_type": "code",
   "execution_count": 9,
   "id": "ebeb2557-55c9-42d8-ae3c-f19b957f9651",
   "metadata": {},
   "outputs": [],
   "source": [
    "# Create the folder for the output of th training\n",
    "\n",
    "Path(retnet_path / \"OutputTraining\").resolve().mkdir(parents=True, exist_ok=True)\n",
    "\n",
    "out_train = retnet_path / \"OutputTraining\"\n",
    "\n",
    "Path(out_train / \"TrainOut\").resolve().mkdir(parents=True, exist_ok=True)\n",
    "Path(out_train / \"TrainOut\" / \"snapshots\").resolve().mkdir(parents=True, exist_ok=True)\n",
    "Path(out_train / \"TrainOut\" / \"train\").resolve().mkdir(parents=True, exist_ok=True)\n"
   ]
  },
  {
   "cell_type": "markdown",
   "id": "ad5428af-4923-4a53-adcb-1c3226c88e8e",
   "metadata": {},
   "source": [
    "------------------------------------------------------------------\n",
    "To train the model, we moved to the OutputTraining folder and run the following command in powershell\n",
    " - **python D:/Avelyn/AvyTareas/DSleuven/Advanced_Analytics_in_Business/Assignment_2/Project/RetNet/keras-retinanet/keras_retinanet/bin/train.py --tensorboard-dir ./TrainOut --snapshot-path ./TrainOut/snapshots --random-transform --steps 100 pascal D:\\Avelyn\\AvyTareas\\DSleuven\\Advanced_Analytics_in_Business\\Assignment_2\\Project\\RetNet\\Pools** <br>\n",
    "\n",
    "For reproduction, someone would need to change the following paths\n",
    " - path to the train.py script in keras-retinanet\n",
    " - path to the folder with you want to save the performance of the model (In this example. ./TrainOut) and the model (In this example. ./TrainOut/snapshots)\n",
    " - path to the parent folder of JPEGImages, Annotations and ImageSet (In this example D:\\Avelyn\\AvyTareas\\DSleuven\\Advanced_Analytics_in_Business\\Assignment_2\\Project\\RetNet\\Pools)\n",
    " \n",
    "To evaluate the performance of the training, run the following command in the folder that you defined as tensorboard-dir path before\n",
    " - **tensorboard --logdir ./**\n",
    " --------------------------------------------------------"
   ]
  },
  {
   "cell_type": "code",
   "execution_count": 11,
   "id": "1f1e1284-fbf1-4908-af79-737b9808226b",
   "metadata": {},
   "outputs": [],
   "source": [
    "# Create the folder to the test output\n",
    "\n",
    "Path(pools_path / \"OutputTest\").resolve().mkdir(parents=True, exist_ok=True)"
   ]
  },
  {
   "cell_type": "code",
   "execution_count": 27,
   "id": "4a585159-689b-4985-9c9d-c7b1a6e4cfbc",
   "metadata": {},
   "outputs": [
    {
     "name": "stdout",
     "output_type": "stream",
     "text": [
      "102\n"
     ]
    }
   ],
   "source": [
    "# Prepare the csv of 100 images from the test images to add and a list of extra images to test\n",
    "\n",
    "test1 = []\n",
    "\n",
    "for aux in test_imgs[:100]:\n",
    "    test1.append(aux[:-4] + \".jpg\")\n",
    "\n",
    "aux_dict = {\"image_name\": test1}\n",
    "aux_df = pd.DataFrame(aux_dict)\n",
    "\n",
    "path_tstcsv = pools_path / \"OutputTest\" / \"testimages.csv\"\n",
    "aux_df.to_csv(path_tstcsv, index=False)\n",
    "\n",
    "print(len(os.listdir(pools_path / \"OutputTest\")))\n",
    "\n",
    "test2 = os.listdir(pools_path / \"JPEGImagesExtra\")"
   ]
  },
  {
   "cell_type": "markdown",
   "id": "13ad4f36-50ba-48cb-b903-bda47b38d122",
   "metadata": {},
   "source": [
    "## Test evaluation\n",
    "**To run a detection on the test images, we edited script testDetection.py, setting the appropiate paths and run it.**\n",
    "\n",
    "---------------------------------------------------------"
   ]
  },
  {
   "cell_type": "markdown",
   "id": "c104a1e9-1e2b-4216-a77d-452dd2c2b1a6",
   "metadata": {},
   "source": [
    "### Extra code for report purpose"
   ]
  },
  {
   "cell_type": "code",
   "execution_count": 13,
   "id": "7670fea4-7d49-48f3-9812-0b5f70d9edb3",
   "metadata": {},
   "outputs": [
    {
     "name": "stdout",
     "output_type": "stream",
     "text": [
      "Images in metadata:  14964\n",
      "Images in images:  14912\n"
     ]
    }
   ],
   "source": [
    "# Draw the boundary polygon for images with doubious quality\n",
    "t_images = [\"43.6488262_1.4292858.png\", \"42.6367168_2.6882326.png\", \"42.6371408_2.8691249.png\", \"42.637546_2.689366.png\", \n",
    "            \"42.6382407_2.8750289.png\", \"42.6383866_2.8664744.png\", \"42.6390448_2.867636.png\", \"42.6396704_2.8179006.png\", \n",
    "            \"42.6398678_2.7250487.png\", \"42.6399892_2.8665618.png\", \"42.6405307_2.725142.png\"]\n",
    "\n",
    "print(\"Images in metadata: \", len(df_metadata))\n",
    "print(\"Images in images: \", len(os.listdir(images_dir_path)))\n",
    "\n",
    "Path(base_path / \"BadImages\").resolve().mkdir(parents=True, exist_ok=True)\n",
    "bi_path = base_path / \"BadImages\"\n",
    "n_images = len(t_images)#len(images_name)             # How many images you want to display    \n",
    "\n",
    "for i in range(n_images):\n",
    "        img_save = cv2.imread(os.path.join(images_dir_path, t_images[i]))\n",
    "        pts = np.array( [list((j[\"x\"],j[\"y\"])) for j in df_metadata.loc[t_images[i]][\"bounds_x_y\"]], np.int32 )\n",
    "        pts = pts.reshape(-1,1,2)\n",
    "        cv2.polylines(img_save,[pts],True,(0,0,255), 2);\n",
    "        abs_path_save = os.path.join(bi_path, t_images[i])\n",
    "        cv2.imwrite(abs_path_save, img_save)"
   ]
  },
  {
   "cell_type": "code",
   "execution_count": null,
   "id": "7819bb2d-cc63-4ee1-a87e-7a54f8b14f45",
   "metadata": {},
   "outputs": [],
   "source": []
  }
 ],
 "metadata": {
  "kernelspec": {
   "display_name": "IRProject",
   "language": "python",
   "name": "irproject"
  },
  "language_info": {
   "codemirror_mode": {
    "name": "ipython",
    "version": 3
   },
   "file_extension": ".py",
   "mimetype": "text/x-python",
   "name": "python",
   "nbconvert_exporter": "python",
   "pygments_lexer": "ipython3",
   "version": "3.9.5"
  }
 },
 "nbformat": 4,
 "nbformat_minor": 5
}
