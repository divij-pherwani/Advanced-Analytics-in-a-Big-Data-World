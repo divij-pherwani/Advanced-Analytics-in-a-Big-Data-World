{
 "cells": [
  {
   "cell_type": "markdown",
   "id": "bda9fda7",
   "metadata": {},
   "source": [
    "# Importing packages"
   ]
  },
  {
   "cell_type": "code",
   "execution_count": 43,
   "id": "f361c549",
   "metadata": {},
   "outputs": [],
   "source": [
    "import pandas as pd  \n",
    "import numpy as np \n",
    "import datetime  \n",
    "import time\n",
    "\n",
    "import matplotlib.pyplot as plt\n",
    "import seaborn as sn\n",
    "\n",
    "from sklearn.model_selection import train_test_split, GridSearchCV, StratifiedKFold\n",
    "from sklearn.preprocessing import StandardScaler\n",
    "from sklearn.decomposition import PCA\n",
    "\n",
    "from sklearn import tree\n",
    "from sklearn.ensemble import BaggingClassifier, RandomForestClassifier, GradientBoostingClassifier \n",
    "from sklearn.inspection import permutation_importance\n",
    "from sklearn.metrics import confusion_matrix, roc_curve, auc, roc_auc_score, plot_roc_curve\n",
    "from sklearn.metrics import precision_recall_curve, make_scorer, recall_score, accuracy_score, precision_score"
   ]
  },
  {
   "cell_type": "markdown",
   "id": "b2a667fd",
   "metadata": {},
   "source": [
    "# Function definitions"
   ]
  },
  {
   "cell_type": "markdown",
   "id": "99858709",
   "metadata": {},
   "source": [
    "Function to convert a data array back to a dataframe and restore the datatypes. Only restores datatypes `bool`, `int64`, and `string`.\n",
    "\n",
    "Input:\n",
    " - `data_array`: an array that is a subset of the original dataframe `og_df`. All features of `og_df` should be included in the `data_array`, except for the ones in `exclude`\n",
    "\n",
    " - `og_df`: the original dataframe\n",
    "\n",
    " - `exclude`: an array containing the names of the features that are present in `og_df`, but not in `data_array`\n",
    " \n",
    "Returns:\n",
    " - the given array `data_array` as a dataframe"
   ]
  },
  {
   "cell_type": "code",
   "execution_count": 44,
   "id": "01ecfe01",
   "metadata": {},
   "outputs": [],
   "source": [
    "def to_df_restore_dtypes(data_array, og_df, exclude):\n",
    "    col_names = og_df.drop(exclude, axis=1).columns.tolist() \n",
    "    arr_df = pd.DataFrame(data_array, columns = col_names)\n",
    "    \n",
    "    bool_columns = og_df.drop(exclude, axis=1).select_dtypes(include='bool').columns.tolist() \n",
    "    int_columns  = og_df.drop(exclude, axis=1).select_dtypes(include='int64').columns.tolist() \n",
    "    str_columns  = og_df.drop(exclude, axis=1).select_dtypes(include='string').columns.tolist() \n",
    "    \n",
    "    arr_df[bool_columns] = arr_df[bool_columns].astype('bool')\n",
    "    arr_df[int_columns]  = arr_df[int_columns].astype('int64')\n",
    "    arr_df[str_columns]  = arr_df[str_columns].astype('string')\n",
    "    \n",
    "    return arr_df"
   ]
  },
  {
   "cell_type": "markdown",
   "id": "a04cbd27",
   "metadata": {},
   "source": [
    "# Preprocessing"
   ]
  },
  {
   "cell_type": "markdown",
   "id": "9ea6175f",
   "metadata": {},
   "source": [
    "## Load the data"
   ]
  },
  {
   "cell_type": "markdown",
   "id": "462fb063",
   "metadata": {},
   "source": [
    "Load the data and print the dimensions and the first 5 instances."
   ]
  },
  {
   "cell_type": "code",
   "execution_count": 45,
   "id": "dff45b09",
   "metadata": {},
   "outputs": [
    {
     "name": "stdout",
     "output_type": "stream",
     "text": [
      "Dimensions of the dataset: (63697, 40)\n"
     ]
    },
    {
     "data": {
      "text/html": [
       "<div>\n",
       "<style scoped>\n",
       "    .dataframe tbody tr th:only-of-type {\n",
       "        vertical-align: middle;\n",
       "    }\n",
       "\n",
       "    .dataframe tbody tr th {\n",
       "        vertical-align: top;\n",
       "    }\n",
       "\n",
       "    .dataframe thead th {\n",
       "        text-align: right;\n",
       "    }\n",
       "</style>\n",
       "<table border=\"1\" class=\"dataframe\">\n",
       "  <thead>\n",
       "    <tr style=\"text-align: right;\">\n",
       "      <th></th>\n",
       "      <th>client_id</th>\n",
       "      <th>homebanking_active</th>\n",
       "      <th>has_homebanking</th>\n",
       "      <th>has_insurance_21</th>\n",
       "      <th>has_insurance_23</th>\n",
       "      <th>has_life_insurance_fixed_cap</th>\n",
       "      <th>has_life_insurance_decreasing_cap</th>\n",
       "      <th>has_fire_car_other_insurance</th>\n",
       "      <th>has_personal_loan</th>\n",
       "      <th>has_mortgage_loan</th>\n",
       "      <th>...</th>\n",
       "      <th>customer_since_bank</th>\n",
       "      <th>customer_gender</th>\n",
       "      <th>customer_birth_date</th>\n",
       "      <th>customer_postal_code</th>\n",
       "      <th>customer_occupation_code</th>\n",
       "      <th>customer_self_employed</th>\n",
       "      <th>customer_education</th>\n",
       "      <th>customer_children</th>\n",
       "      <th>customer_relationship</th>\n",
       "      <th>target</th>\n",
       "    </tr>\n",
       "  </thead>\n",
       "  <tbody>\n",
       "    <tr>\n",
       "      <th>0</th>\n",
       "      <td>910df42ad36243aa4ce16324cd7b15b0</td>\n",
       "      <td>0</td>\n",
       "      <td>0</td>\n",
       "      <td>0</td>\n",
       "      <td>0</td>\n",
       "      <td>0</td>\n",
       "      <td>0</td>\n",
       "      <td>1</td>\n",
       "      <td>0</td>\n",
       "      <td>0</td>\n",
       "      <td>...</td>\n",
       "      <td>1994-08</td>\n",
       "      <td>1</td>\n",
       "      <td>1943-09</td>\n",
       "      <td>3630</td>\n",
       "      <td>9.0</td>\n",
       "      <td>0</td>\n",
       "      <td>0.0</td>\n",
       "      <td>NaN</td>\n",
       "      <td>NaN</td>\n",
       "      <td>0</td>\n",
       "    </tr>\n",
       "    <tr>\n",
       "      <th>1</th>\n",
       "      <td>4e19dc3a54323c5bbfc374664b950cd1</td>\n",
       "      <td>1</td>\n",
       "      <td>1</td>\n",
       "      <td>0</td>\n",
       "      <td>0</td>\n",
       "      <td>0</td>\n",
       "      <td>0</td>\n",
       "      <td>0</td>\n",
       "      <td>0</td>\n",
       "      <td>0</td>\n",
       "      <td>...</td>\n",
       "      <td>2017-01</td>\n",
       "      <td>1</td>\n",
       "      <td>1994-02</td>\n",
       "      <td>2460</td>\n",
       "      <td>9.0</td>\n",
       "      <td>0</td>\n",
       "      <td>NaN</td>\n",
       "      <td>mature</td>\n",
       "      <td>couple</td>\n",
       "      <td>0</td>\n",
       "    </tr>\n",
       "    <tr>\n",
       "      <th>2</th>\n",
       "      <td>f5d08db1b86c0cb0f566bf446cff1fb4</td>\n",
       "      <td>1</td>\n",
       "      <td>1</td>\n",
       "      <td>0</td>\n",
       "      <td>0</td>\n",
       "      <td>0</td>\n",
       "      <td>0</td>\n",
       "      <td>1</td>\n",
       "      <td>0</td>\n",
       "      <td>0</td>\n",
       "      <td>...</td>\n",
       "      <td>1980-12</td>\n",
       "      <td>2</td>\n",
       "      <td>1936-10</td>\n",
       "      <td>2660</td>\n",
       "      <td>9.0</td>\n",
       "      <td>0</td>\n",
       "      <td>NaN</td>\n",
       "      <td>NaN</td>\n",
       "      <td>single</td>\n",
       "      <td>0</td>\n",
       "    </tr>\n",
       "    <tr>\n",
       "      <th>3</th>\n",
       "      <td>26170ecf63653e215c52f4262c1c4859</td>\n",
       "      <td>0</td>\n",
       "      <td>0</td>\n",
       "      <td>0</td>\n",
       "      <td>0</td>\n",
       "      <td>0</td>\n",
       "      <td>0</td>\n",
       "      <td>1</td>\n",
       "      <td>0</td>\n",
       "      <td>0</td>\n",
       "      <td>...</td>\n",
       "      <td>2013-10</td>\n",
       "      <td>1</td>\n",
       "      <td>1946-09</td>\n",
       "      <td>6600</td>\n",
       "      <td>9.0</td>\n",
       "      <td>0</td>\n",
       "      <td>NaN</td>\n",
       "      <td>NaN</td>\n",
       "      <td>NaN</td>\n",
       "      <td>0</td>\n",
       "    </tr>\n",
       "    <tr>\n",
       "      <th>4</th>\n",
       "      <td>c078009957dffb64f20e61b41220a976</td>\n",
       "      <td>0</td>\n",
       "      <td>0</td>\n",
       "      <td>0</td>\n",
       "      <td>0</td>\n",
       "      <td>0</td>\n",
       "      <td>0</td>\n",
       "      <td>0</td>\n",
       "      <td>0</td>\n",
       "      <td>0</td>\n",
       "      <td>...</td>\n",
       "      <td>2012-11</td>\n",
       "      <td>2</td>\n",
       "      <td>1996-04</td>\n",
       "      <td>8550</td>\n",
       "      <td>9.0</td>\n",
       "      <td>0</td>\n",
       "      <td>NaN</td>\n",
       "      <td>mature</td>\n",
       "      <td>couple</td>\n",
       "      <td>1</td>\n",
       "    </tr>\n",
       "  </tbody>\n",
       "</table>\n",
       "<p>5 rows × 40 columns</p>\n",
       "</div>"
      ],
      "text/plain": [
       "                          client_id  homebanking_active  has_homebanking  \\\n",
       "0  910df42ad36243aa4ce16324cd7b15b0                   0                0   \n",
       "1  4e19dc3a54323c5bbfc374664b950cd1                   1                1   \n",
       "2  f5d08db1b86c0cb0f566bf446cff1fb4                   1                1   \n",
       "3  26170ecf63653e215c52f4262c1c4859                   0                0   \n",
       "4  c078009957dffb64f20e61b41220a976                   0                0   \n",
       "\n",
       "   has_insurance_21  has_insurance_23  has_life_insurance_fixed_cap  \\\n",
       "0                 0                 0                             0   \n",
       "1                 0                 0                             0   \n",
       "2                 0                 0                             0   \n",
       "3                 0                 0                             0   \n",
       "4                 0                 0                             0   \n",
       "\n",
       "   has_life_insurance_decreasing_cap  has_fire_car_other_insurance  \\\n",
       "0                                  0                             1   \n",
       "1                                  0                             0   \n",
       "2                                  0                             1   \n",
       "3                                  0                             1   \n",
       "4                                  0                             0   \n",
       "\n",
       "   has_personal_loan  has_mortgage_loan  ...  customer_since_bank  \\\n",
       "0                  0                  0  ...              1994-08   \n",
       "1                  0                  0  ...              2017-01   \n",
       "2                  0                  0  ...              1980-12   \n",
       "3                  0                  0  ...              2013-10   \n",
       "4                  0                  0  ...              2012-11   \n",
       "\n",
       "   customer_gender  customer_birth_date  customer_postal_code  \\\n",
       "0                1              1943-09                  3630   \n",
       "1                1              1994-02                  2460   \n",
       "2                2              1936-10                  2660   \n",
       "3                1              1946-09                  6600   \n",
       "4                2              1996-04                  8550   \n",
       "\n",
       "   customer_occupation_code  customer_self_employed  customer_education  \\\n",
       "0                       9.0                       0                 0.0   \n",
       "1                       9.0                       0                 NaN   \n",
       "2                       9.0                       0                 NaN   \n",
       "3                       9.0                       0                 NaN   \n",
       "4                       9.0                       0                 NaN   \n",
       "\n",
       "   customer_children  customer_relationship  target  \n",
       "0                NaN                    NaN       0  \n",
       "1             mature                 couple       0  \n",
       "2                NaN                 single       0  \n",
       "3                NaN                    NaN       0  \n",
       "4             mature                 couple       1  \n",
       "\n",
       "[5 rows x 40 columns]"
      ]
     },
     "execution_count": 45,
     "metadata": {},
     "output_type": "execute_result"
    }
   ],
   "source": [
    "train_m3 = pd.read_csv('data/train_month_3_with_target.csv')\n",
    "print('Dimensions of the dataset:', train_m3.shape)\n",
    "train_m3.head()  # prints the first 5 instances"
   ]
  },
  {
   "cell_type": "markdown",
   "id": "d6f43712",
   "metadata": {},
   "source": [
    "## Missing values\n",
    "Check how many missing values each feature has."
   ]
  },
  {
   "cell_type": "code",
   "execution_count": 46,
   "id": "07db982d",
   "metadata": {},
   "outputs": [
    {
     "data": {
      "text/plain": [
       "client_id                                0\n",
       "homebanking_active                       0\n",
       "has_homebanking                          0\n",
       "has_insurance_21                         0\n",
       "has_insurance_23                         0\n",
       "has_life_insurance_fixed_cap             0\n",
       "has_life_insurance_decreasing_cap        0\n",
       "has_fire_car_other_insurance             0\n",
       "has_personal_loan                        0\n",
       "has_mortgage_loan                        0\n",
       "has_current_account                      0\n",
       "has_pension_saving                       0\n",
       "has_savings_account                      0\n",
       "has_savings_account_starter              0\n",
       "has_current_account_starter              0\n",
       "bal_insurance_21                         0\n",
       "bal_insurance_23                         0\n",
       "cap_life_insurance_fixed_cap             0\n",
       "cap_life_insurance_decreasing_cap        0\n",
       "prem_fire_car_other_insurance            0\n",
       "bal_personal_loan                        0\n",
       "bal_mortgage_loan                        0\n",
       "bal_current_account                      0\n",
       "bal_pension_saving                       0\n",
       "bal_savings_account                      0\n",
       "bal_savings_account_starter              0\n",
       "bal_current_account_starter              0\n",
       "visits_distinct_so                       0\n",
       "visits_distinct_so_areas                 0\n",
       "customer_since_all                     234\n",
       "customer_since_bank                    249\n",
       "customer_gender                          0\n",
       "customer_birth_date                      0\n",
       "customer_postal_code                     0\n",
       "customer_occupation_code              2002\n",
       "customer_self_employed                   0\n",
       "customer_education                   47125\n",
       "customer_children                    23364\n",
       "customer_relationship                14899\n",
       "target                                   0\n",
       "dtype: int64"
      ]
     },
     "execution_count": 46,
     "metadata": {},
     "output_type": "execute_result"
    }
   ],
   "source": [
    "train_m3.isna().sum()"
   ]
  },
  {
   "cell_type": "markdown",
   "id": "df7a33ea",
   "metadata": {},
   "source": [
    "How many negative and positive cases are there?"
   ]
  },
  {
   "cell_type": "code",
   "execution_count": 47,
   "id": "6b7e9f9b",
   "metadata": {},
   "outputs": [
    {
     "name": "stdout",
     "output_type": "stream",
     "text": [
      "0    61784\n",
      "1     1913\n",
      "Name: target, dtype: int64\n"
     ]
    }
   ],
   "source": [
    "num_cases = train_m3['target'].value_counts()\n",
    "print(num_cases)"
   ]
  },
  {
   "cell_type": "code",
   "execution_count": 48,
   "id": "c1abb0fe",
   "metadata": {},
   "outputs": [
    {
     "name": "stdout",
     "output_type": "stream",
     "text": [
      "total number of missing values for churners: 1913\n",
      "total number of missing values for non-churners: 61784\n",
      "\n",
      "number of churners with missing values: 1277\n",
      "number of non-churners with missing values: 52137\n",
      "\n",
      "proportion of churners with missing values: 67.0 %\n",
      "proportion of non-churners with missing values: 84.0 %\n"
     ]
    }
   ],
   "source": [
    "missing = train_m3.isna()\n",
    "missing['missing_count'] = missing.apply(lambda row: row.sum(), axis = 1)\n",
    "missing['has_missing'] = missing.apply(lambda row: 1 if row.sum()>0 else 0, axis = 1)\n",
    "missing['target'] = train_m3['target']\n",
    "\n",
    "counts = missing.value_counts(subset=['missing_count', 'target'])\n",
    "churn_total_missing = counts.groupby('target').sum()[1]\n",
    "non_churn_total_missing = counts.groupby('target').sum()[0]\n",
    "\n",
    "obs_count = missing.value_counts(subset=['has_missing', 'target'])\n",
    "\n",
    "nb_churn_missing = obs_count.loc[1, 1]\n",
    "nb_non_churn_missing = obs_count.loc[1, 0]\n",
    "\n",
    "print('total number of missing values for churners:', churn_total_missing)\n",
    "print('total number of missing values for non-churners:', non_churn_total_missing)\n",
    "print()\n",
    "print('number of churners with missing values:', nb_churn_missing)\n",
    "print('number of non-churners with missing values:', nb_non_churn_missing)\n",
    "print()\n",
    "print('proportion of churners with missing values:', np.round(100*nb_churn_missing/num_cases[1]), '%')\n",
    "print('proportion of non-churners with missing values:', np.round(100*nb_non_churn_missing/num_cases[0]), '%')"
   ]
  },
  {
   "cell_type": "markdown",
   "id": "3d564de3",
   "metadata": {},
   "source": [
    "For the features that have missing values, it makes sense to drop `customer_occupation_code`, `customer_education`, `customer_children`, `customer_relationship`, given that these do not have an immediate link to churn probability. These are also the features with the most missing values (missing for 3%, 74%, 37%, 23% of the observations), indicating that it might be difficult to obtain this information. This means that if the model does for some reason rely on these features, it may not be guaranteed that the model will have this information available in the future. \n",
    "\n",
    "Since `customer_since_all` and `customer_since_bank` are dates, reasonable imputation would be difficult, so these features are also dropped. Another option would be to drop the instances for which this feature is missing since there are relatively few."
   ]
  },
  {
   "cell_type": "code",
   "execution_count": 49,
   "id": "f12837e7",
   "metadata": {},
   "outputs": [],
   "source": [
    "train_m3.dropna(axis=1, inplace=True)  # \"axis=1\" to delete columns (\"axis=0\" would delete rows), \n",
    "                                       # \"inplace=True\" to apply the change to the actual dataframe"
   ]
  },
  {
   "cell_type": "markdown",
   "id": "c3c566de",
   "metadata": {},
   "source": [
    "## Data types\n",
    "Check the data types of the features."
   ]
  },
  {
   "cell_type": "code",
   "execution_count": 50,
   "id": "94db1c82",
   "metadata": {},
   "outputs": [
    {
     "data": {
      "text/plain": [
       "client_id                             object\n",
       "homebanking_active                     int64\n",
       "has_homebanking                        int64\n",
       "has_insurance_21                       int64\n",
       "has_insurance_23                       int64\n",
       "has_life_insurance_fixed_cap           int64\n",
       "has_life_insurance_decreasing_cap      int64\n",
       "has_fire_car_other_insurance           int64\n",
       "has_personal_loan                      int64\n",
       "has_mortgage_loan                      int64\n",
       "has_current_account                    int64\n",
       "has_pension_saving                     int64\n",
       "has_savings_account                    int64\n",
       "has_savings_account_starter            int64\n",
       "has_current_account_starter            int64\n",
       "bal_insurance_21                       int64\n",
       "bal_insurance_23                       int64\n",
       "cap_life_insurance_fixed_cap           int64\n",
       "cap_life_insurance_decreasing_cap      int64\n",
       "prem_fire_car_other_insurance          int64\n",
       "bal_personal_loan                      int64\n",
       "bal_mortgage_loan                      int64\n",
       "bal_current_account                    int64\n",
       "bal_pension_saving                     int64\n",
       "bal_savings_account                    int64\n",
       "bal_savings_account_starter            int64\n",
       "bal_current_account_starter            int64\n",
       "visits_distinct_so                   float64\n",
       "visits_distinct_so_areas             float64\n",
       "customer_gender                        int64\n",
       "customer_birth_date                   object\n",
       "customer_postal_code                   int64\n",
       "customer_self_employed                 int64\n",
       "target                                 int64\n",
       "dtype: object"
      ]
     },
     "execution_count": 50,
     "metadata": {},
     "output_type": "execute_result"
    }
   ],
   "source": [
    "train_m3.dtypes"
   ]
  },
  {
   "cell_type": "markdown",
   "id": "0f8c511a",
   "metadata": {},
   "source": [
    "Convert features `client_id`, `customer_birth_date`, and `customer_postal_code` to `string`."
   ]
  },
  {
   "cell_type": "code",
   "execution_count": 51,
   "id": "8d59c3e3",
   "metadata": {},
   "outputs": [],
   "source": [
    "str_cols = ['client_id','customer_birth_date','customer_postal_code']\n",
    "train_m3[str_cols] = train_m3[str_cols].astype('string')"
   ]
  },
  {
   "cell_type": "markdown",
   "id": "4a19e1e4",
   "metadata": {},
   "source": [
    "Features `visits_distinct_so` and `visits_distinct_so_areas` should be integers instead of floats. (doesn't actually matter that much)"
   ]
  },
  {
   "cell_type": "code",
   "execution_count": 52,
   "id": "dd79807a",
   "metadata": {},
   "outputs": [
    {
     "name": "stdout",
     "output_type": "stream",
     "text": [
      "[1. 2. 3. 4. 6. 5. 7.]\n",
      "[1. 2. 3. 5. 4. 6.]\n"
     ]
    }
   ],
   "source": [
    "print(train_m3['visits_distinct_so'].unique())  # returns the distinct values for this feature\n",
    "print(train_m3['visits_distinct_so_areas'].unique())\n",
    "\n",
    "train_m3['visits_distinct_so'] = train_m3['visits_distinct_so'].astype('int64')\n",
    "train_m3['visits_distinct_so_areas'] = train_m3['visits_distinct_so_areas'].astype('int64')"
   ]
  },
  {
   "cell_type": "markdown",
   "id": "d3586085",
   "metadata": {},
   "source": [
    "Convert the binary coded features to type `boolean` instead of `integer` or `float`.\n",
    "\n",
    "`customer_gender` has values 1 and 2 which should be converted to 0 and 1 before changing the datatype to boolean. The other binary features are 0-1 coded. "
   ]
  },
  {
   "cell_type": "code",
   "execution_count": 53,
   "id": "6e26ce7c",
   "metadata": {},
   "outputs": [],
   "source": [
    "train_m3['customer_gender'] = train_m3['customer_gender'].apply(lambda row: row - 1)"
   ]
  },
  {
   "cell_type": "markdown",
   "id": "d6b03362",
   "metadata": {},
   "source": [
    "Convert to boolean."
   ]
  },
  {
   "cell_type": "code",
   "execution_count": 54,
   "id": "e0094fa4",
   "metadata": {},
   "outputs": [
    {
     "name": "stdout",
     "output_type": "stream",
     "text": [
      "Features that are binary-coded:\n",
      "['homebanking_active', 'has_homebanking', 'has_insurance_21', 'has_insurance_23', 'has_life_insurance_fixed_cap', 'has_life_insurance_decreasing_cap', 'has_fire_car_other_insurance', 'has_personal_loan', 'has_mortgage_loan', 'has_current_account', 'has_pension_saving', 'has_savings_account', 'has_savings_account_starter', 'has_current_account_starter', 'customer_gender', 'customer_self_employed', 'target']\n",
      "\n",
      "Updated data types:\n"
     ]
    },
    {
     "data": {
      "text/plain": [
       "client_id                            string\n",
       "homebanking_active                     bool\n",
       "has_homebanking                        bool\n",
       "has_insurance_21                       bool\n",
       "has_insurance_23                       bool\n",
       "has_life_insurance_fixed_cap           bool\n",
       "has_life_insurance_decreasing_cap      bool\n",
       "has_fire_car_other_insurance           bool\n",
       "has_personal_loan                      bool\n",
       "has_mortgage_loan                      bool\n",
       "has_current_account                    bool\n",
       "has_pension_saving                     bool\n",
       "has_savings_account                    bool\n",
       "has_savings_account_starter            bool\n",
       "has_current_account_starter            bool\n",
       "bal_insurance_21                      int64\n",
       "bal_insurance_23                      int64\n",
       "cap_life_insurance_fixed_cap          int64\n",
       "cap_life_insurance_decreasing_cap     int64\n",
       "prem_fire_car_other_insurance         int64\n",
       "bal_personal_loan                     int64\n",
       "bal_mortgage_loan                     int64\n",
       "bal_current_account                   int64\n",
       "bal_pension_saving                    int64\n",
       "bal_savings_account                   int64\n",
       "bal_savings_account_starter           int64\n",
       "bal_current_account_starter           int64\n",
       "visits_distinct_so                    int64\n",
       "visits_distinct_so_areas              int64\n",
       "customer_gender                        bool\n",
       "customer_birth_date                  string\n",
       "customer_postal_code                 string\n",
       "customer_self_employed                 bool\n",
       "target                                 bool\n",
       "dtype: object"
      ]
     },
     "execution_count": 54,
     "metadata": {},
     "output_type": "execute_result"
    }
   ],
   "source": [
    "# get all columns with a numerical type\n",
    "binary_columns = train_m3.select_dtypes(include='number').columns.tolist() \n",
    "\n",
    "# these are the features that should stay numerical. Note that \"customer_age\" is included here, though this \n",
    "# feature has not been made yet. This is to prevent this feature from being converted to a boolean variable if\n",
    "# this cell is run again\n",
    "actually_num = {\n",
    "                \"bal_insurance_21\", \"bal_insurance_23\", \"cap_life_insurance_fixed_cap\", \n",
    "                \"cap_life_insurance_decreasing_cap\", \"prem_fire_car_other_insurance\",\n",
    "                \"bal_personal_loan\", \"bal_mortgage_loan\", \"bal_current_account\", \"bal_pension_saving\", \n",
    "                \"bal_savings_account\", \"bal_savings_account_starter\", \"bal_current_account_starter\", \n",
    "                \"visits_distinct_so\", \"visits_distinct_so_areas\", \"customer_age\"\n",
    "               }\n",
    "\n",
    "# only keep the features that are not in actually_num\n",
    "binary_columns = [el for el in binary_columns if el not in actually_num]\n",
    "\n",
    "print('Features that are binary-coded:')\n",
    "print(binary_columns)\n",
    "print()\n",
    "\n",
    "# change the type to boolean\n",
    "train_m3[binary_columns] = train_m3[binary_columns].astype('bool')\n",
    "\n",
    "print('Updated data types:')\n",
    "train_m3.dtypes"
   ]
  },
  {
   "cell_type": "markdown",
   "id": "a83388c6",
   "metadata": {},
   "source": [
    "## Transforming features"
   ]
  },
  {
   "cell_type": "markdown",
   "id": "03f6caba",
   "metadata": {},
   "source": [
    "Feature `customer_birth_date` should be converted to a new feature `customer_age`. This is done based on the birthyear. Also using birthmonth would be more acurate, but shouldn't make a real difference."
   ]
  },
  {
   "cell_type": "code",
   "execution_count": 55,
   "id": "5ef78a6a",
   "metadata": {},
   "outputs": [],
   "source": [
    "# value of the current year (as an integer), so the current age can be calculated\n",
    "currentYear = int(datetime.datetime.now().date().strftime(\"%Y\"))\n",
    "# for each row, calculate the current age and store the value in the new feature 'customer_age'\n",
    "train_m3['customer_age'] = train_m3.apply(lambda row: currentYear - int(row.customer_birth_date.split('-')[0]), \n",
    "                                          axis = 1)"
   ]
  },
  {
   "cell_type": "markdown",
   "id": "7ed40fc3",
   "metadata": {},
   "source": [
    "Gives a summary on the numerical features."
   ]
  },
  {
   "cell_type": "code",
   "execution_count": 56,
   "id": "9f5e97aa",
   "metadata": {},
   "outputs": [
    {
     "data": {
      "text/html": [
       "<div>\n",
       "<style scoped>\n",
       "    .dataframe tbody tr th:only-of-type {\n",
       "        vertical-align: middle;\n",
       "    }\n",
       "\n",
       "    .dataframe tbody tr th {\n",
       "        vertical-align: top;\n",
       "    }\n",
       "\n",
       "    .dataframe thead th {\n",
       "        text-align: right;\n",
       "    }\n",
       "</style>\n",
       "<table border=\"1\" class=\"dataframe\">\n",
       "  <thead>\n",
       "    <tr style=\"text-align: right;\">\n",
       "      <th></th>\n",
       "      <th>bal_insurance_21</th>\n",
       "      <th>bal_insurance_23</th>\n",
       "      <th>cap_life_insurance_fixed_cap</th>\n",
       "      <th>cap_life_insurance_decreasing_cap</th>\n",
       "      <th>prem_fire_car_other_insurance</th>\n",
       "      <th>bal_personal_loan</th>\n",
       "      <th>bal_mortgage_loan</th>\n",
       "      <th>bal_current_account</th>\n",
       "      <th>bal_pension_saving</th>\n",
       "      <th>bal_savings_account</th>\n",
       "      <th>bal_savings_account_starter</th>\n",
       "      <th>bal_current_account_starter</th>\n",
       "      <th>visits_distinct_so</th>\n",
       "      <th>visits_distinct_so_areas</th>\n",
       "      <th>customer_age</th>\n",
       "    </tr>\n",
       "  </thead>\n",
       "  <tbody>\n",
       "    <tr>\n",
       "      <th>count</th>\n",
       "      <td>63697.000000</td>\n",
       "      <td>63697.000000</td>\n",
       "      <td>63697.000000</td>\n",
       "      <td>63697.000000</td>\n",
       "      <td>63697.000000</td>\n",
       "      <td>63697.000000</td>\n",
       "      <td>63697.000000</td>\n",
       "      <td>63697.000000</td>\n",
       "      <td>63697.000000</td>\n",
       "      <td>63697.000000</td>\n",
       "      <td>63697.000000</td>\n",
       "      <td>63697.000000</td>\n",
       "      <td>63697.000000</td>\n",
       "      <td>63697.000000</td>\n",
       "      <td>63697.000000</td>\n",
       "    </tr>\n",
       "    <tr>\n",
       "      <th>mean</th>\n",
       "      <td>457.960187</td>\n",
       "      <td>47.432375</td>\n",
       "      <td>78.260044</td>\n",
       "      <td>11565.570592</td>\n",
       "      <td>183.667049</td>\n",
       "      <td>402.469347</td>\n",
       "      <td>8868.815486</td>\n",
       "      <td>1323.660612</td>\n",
       "      <td>233.421982</td>\n",
       "      <td>17872.484889</td>\n",
       "      <td>57.641176</td>\n",
       "      <td>30.320894</td>\n",
       "      <td>1.230199</td>\n",
       "      <td>1.042608</td>\n",
       "      <td>60.605759</td>\n",
       "    </tr>\n",
       "    <tr>\n",
       "      <th>std</th>\n",
       "      <td>1641.970743</td>\n",
       "      <td>536.978630</td>\n",
       "      <td>2538.927213</td>\n",
       "      <td>40229.761726</td>\n",
       "      <td>368.599652</td>\n",
       "      <td>2662.560352</td>\n",
       "      <td>35525.256697</td>\n",
       "      <td>2685.727023</td>\n",
       "      <td>2140.173418</td>\n",
       "      <td>11750.868466</td>\n",
       "      <td>892.959859</td>\n",
       "      <td>407.877892</td>\n",
       "      <td>0.501498</td>\n",
       "      <td>0.224991</td>\n",
       "      <td>20.042772</td>\n",
       "    </tr>\n",
       "    <tr>\n",
       "      <th>min</th>\n",
       "      <td>0.000000</td>\n",
       "      <td>0.000000</td>\n",
       "      <td>0.000000</td>\n",
       "      <td>0.000000</td>\n",
       "      <td>0.000000</td>\n",
       "      <td>0.000000</td>\n",
       "      <td>0.000000</td>\n",
       "      <td>-1000.000000</td>\n",
       "      <td>0.000000</td>\n",
       "      <td>0.000000</td>\n",
       "      <td>0.000000</td>\n",
       "      <td>-330.000000</td>\n",
       "      <td>1.000000</td>\n",
       "      <td>1.000000</td>\n",
       "      <td>22.000000</td>\n",
       "    </tr>\n",
       "    <tr>\n",
       "      <th>25%</th>\n",
       "      <td>0.000000</td>\n",
       "      <td>0.000000</td>\n",
       "      <td>0.000000</td>\n",
       "      <td>0.000000</td>\n",
       "      <td>0.000000</td>\n",
       "      <td>0.000000</td>\n",
       "      <td>0.000000</td>\n",
       "      <td>0.000000</td>\n",
       "      <td>0.000000</td>\n",
       "      <td>8450.000000</td>\n",
       "      <td>0.000000</td>\n",
       "      <td>0.000000</td>\n",
       "      <td>1.000000</td>\n",
       "      <td>1.000000</td>\n",
       "      <td>45.000000</td>\n",
       "    </tr>\n",
       "    <tr>\n",
       "      <th>50%</th>\n",
       "      <td>0.000000</td>\n",
       "      <td>0.000000</td>\n",
       "      <td>0.000000</td>\n",
       "      <td>0.000000</td>\n",
       "      <td>0.000000</td>\n",
       "      <td>0.000000</td>\n",
       "      <td>0.000000</td>\n",
       "      <td>0.000000</td>\n",
       "      <td>0.000000</td>\n",
       "      <td>15170.000000</td>\n",
       "      <td>0.000000</td>\n",
       "      <td>0.000000</td>\n",
       "      <td>1.000000</td>\n",
       "      <td>1.000000</td>\n",
       "      <td>62.000000</td>\n",
       "    </tr>\n",
       "    <tr>\n",
       "      <th>75%</th>\n",
       "      <td>0.000000</td>\n",
       "      <td>0.000000</td>\n",
       "      <td>0.000000</td>\n",
       "      <td>0.000000</td>\n",
       "      <td>240.000000</td>\n",
       "      <td>0.000000</td>\n",
       "      <td>0.000000</td>\n",
       "      <td>1520.000000</td>\n",
       "      <td>0.000000</td>\n",
       "      <td>25480.000000</td>\n",
       "      <td>0.000000</td>\n",
       "      <td>0.000000</td>\n",
       "      <td>1.000000</td>\n",
       "      <td>1.000000</td>\n",
       "      <td>77.000000</td>\n",
       "    </tr>\n",
       "    <tr>\n",
       "      <th>max</th>\n",
       "      <td>10000.000000</td>\n",
       "      <td>9890.000000</td>\n",
       "      <td>220000.000000</td>\n",
       "      <td>780000.000000</td>\n",
       "      <td>3000.000000</td>\n",
       "      <td>71690.000000</td>\n",
       "      <td>490000.000000</td>\n",
       "      <td>20000.000000</td>\n",
       "      <td>41170.000000</td>\n",
       "      <td>50000.000000</td>\n",
       "      <td>24050.000000</td>\n",
       "      <td>19790.000000</td>\n",
       "      <td>7.000000</td>\n",
       "      <td>6.000000</td>\n",
       "      <td>158.000000</td>\n",
       "    </tr>\n",
       "  </tbody>\n",
       "</table>\n",
       "</div>"
      ],
      "text/plain": [
       "       bal_insurance_21  bal_insurance_23  cap_life_insurance_fixed_cap  \\\n",
       "count      63697.000000      63697.000000                  63697.000000   \n",
       "mean         457.960187         47.432375                     78.260044   \n",
       "std         1641.970743        536.978630                   2538.927213   \n",
       "min            0.000000          0.000000                      0.000000   \n",
       "25%            0.000000          0.000000                      0.000000   \n",
       "50%            0.000000          0.000000                      0.000000   \n",
       "75%            0.000000          0.000000                      0.000000   \n",
       "max        10000.000000       9890.000000                 220000.000000   \n",
       "\n",
       "       cap_life_insurance_decreasing_cap  prem_fire_car_other_insurance  \\\n",
       "count                       63697.000000                   63697.000000   \n",
       "mean                        11565.570592                     183.667049   \n",
       "std                         40229.761726                     368.599652   \n",
       "min                             0.000000                       0.000000   \n",
       "25%                             0.000000                       0.000000   \n",
       "50%                             0.000000                       0.000000   \n",
       "75%                             0.000000                     240.000000   \n",
       "max                        780000.000000                    3000.000000   \n",
       "\n",
       "       bal_personal_loan  bal_mortgage_loan  bal_current_account  \\\n",
       "count       63697.000000       63697.000000         63697.000000   \n",
       "mean          402.469347        8868.815486          1323.660612   \n",
       "std          2662.560352       35525.256697          2685.727023   \n",
       "min             0.000000           0.000000         -1000.000000   \n",
       "25%             0.000000           0.000000             0.000000   \n",
       "50%             0.000000           0.000000             0.000000   \n",
       "75%             0.000000           0.000000          1520.000000   \n",
       "max         71690.000000      490000.000000         20000.000000   \n",
       "\n",
       "       bal_pension_saving  bal_savings_account  bal_savings_account_starter  \\\n",
       "count        63697.000000         63697.000000                 63697.000000   \n",
       "mean           233.421982         17872.484889                    57.641176   \n",
       "std           2140.173418         11750.868466                   892.959859   \n",
       "min              0.000000             0.000000                     0.000000   \n",
       "25%              0.000000          8450.000000                     0.000000   \n",
       "50%              0.000000         15170.000000                     0.000000   \n",
       "75%              0.000000         25480.000000                     0.000000   \n",
       "max          41170.000000         50000.000000                 24050.000000   \n",
       "\n",
       "       bal_current_account_starter  visits_distinct_so  \\\n",
       "count                 63697.000000        63697.000000   \n",
       "mean                     30.320894            1.230199   \n",
       "std                     407.877892            0.501498   \n",
       "min                    -330.000000            1.000000   \n",
       "25%                       0.000000            1.000000   \n",
       "50%                       0.000000            1.000000   \n",
       "75%                       0.000000            1.000000   \n",
       "max                   19790.000000            7.000000   \n",
       "\n",
       "       visits_distinct_so_areas  customer_age  \n",
       "count              63697.000000  63697.000000  \n",
       "mean                   1.042608     60.605759  \n",
       "std                    0.224991     20.042772  \n",
       "min                    1.000000     22.000000  \n",
       "25%                    1.000000     45.000000  \n",
       "50%                    1.000000     62.000000  \n",
       "75%                    1.000000     77.000000  \n",
       "max                    6.000000    158.000000  "
      ]
     },
     "execution_count": 56,
     "metadata": {},
     "output_type": "execute_result"
    }
   ],
   "source": [
    "train_m3.describe()"
   ]
  },
  {
   "cell_type": "markdown",
   "id": "2b5882f0",
   "metadata": {},
   "source": [
    "Note that the maximum value for `customer_age` is 158."
   ]
  },
  {
   "cell_type": "code",
   "execution_count": 57,
   "id": "4499704d",
   "metadata": {},
   "outputs": [
    {
     "name": "stdout",
     "output_type": "stream",
     "text": [
      "      customer_birth_date  customer_age  target\n",
      "55887             1864-03           158   False\n",
      "46240             1865-03           157   False\n",
      "62976             1867-04           155   False\n",
      "58504             1878-11           144   False\n",
      "13280             1878-10           144   False\n",
      "...                   ...           ...     ...\n",
      "2157              2000-03            22   False\n",
      "58684             2000-08            22   False\n",
      "22002             2000-04            22   False\n",
      "21930             2000-12            22   False\n",
      "47021             2000-05            22   False\n",
      "\n",
      "[63697 rows x 3 columns]\n"
     ]
    }
   ],
   "source": [
    "sorted_by_age = train_m3[['customer_birth_date','customer_age', 'target']].sort_values(by='customer_age', \n",
    "                                                                                       ascending=False)\n",
    "nb_obs = train_m3.shape[0]  # number of observations\n",
    "print(sorted_by_age)"
   ]
  },
  {
   "cell_type": "markdown",
   "id": "d397c6f3",
   "metadata": {},
   "source": [
    "Filter out instances where `customer_age > 100`. (a different age could be chosen as well)"
   ]
  },
  {
   "cell_type": "code",
   "execution_count": 58,
   "id": "dfb990bc",
   "metadata": {},
   "outputs": [
    {
     "name": "stdout",
     "output_type": "stream",
     "text": [
      "number of observations that have been filtered out: 242 , which is 0.38 %\n",
      "\n",
      "      customer_birth_date  customer_age  target\n",
      "26010             1922-09           100   False\n",
      "22339             1922-09           100   False\n",
      "54181             1922-08           100   False\n",
      "11757             1922-01           100   False\n",
      "14548             1922-03           100   False\n",
      "...                   ...           ...     ...\n",
      "21930             2000-12            22   False\n",
      "18033             2000-10            22   False\n",
      "5389              2000-11            22   False\n",
      "25254             2000-05            22   False\n",
      "21690             2000-08            22   False\n",
      "\n",
      "[63455 rows x 3 columns]\n"
     ]
    }
   ],
   "source": [
    "train_m3 = train_m3[train_m3['customer_age'] <= 100] \n",
    "\n",
    "sorted_by_age = train_m3[['customer_birth_date','customer_age', 'target']].sort_values(\n",
    "    by='customer_age', ascending=False)\n",
    "\n",
    "print('number of observations that have been filtered out:', nb_obs - train_m3.shape[0], ', which is', \n",
    "      np.round(100*(1 - train_m3.shape[0]/nb_obs),2), '%')\n",
    "print()\n",
    "print(sorted_by_age)"
   ]
  },
  {
   "cell_type": "markdown",
   "id": "a96f9850",
   "metadata": {},
   "source": [
    "Drop `customer_birth_date` from the dataframe."
   ]
  },
  {
   "cell_type": "code",
   "execution_count": 59,
   "id": "231a1370",
   "metadata": {},
   "outputs": [
    {
     "data": {
      "text/plain": [
       "0        1943-09\n",
       "1        1994-02\n",
       "2        1936-10\n",
       "3        1946-09\n",
       "4        1996-04\n",
       "          ...   \n",
       "63692    1982-02\n",
       "63693    1965-05\n",
       "63694    1976-11\n",
       "63695    1951-03\n",
       "63696    1995-03\n",
       "Name: customer_birth_date, Length: 63455, dtype: string"
      ]
     },
     "execution_count": 59,
     "metadata": {},
     "output_type": "execute_result"
    }
   ],
   "source": [
    "train_m3.pop('customer_birth_date')"
   ]
  },
  {
   "cell_type": "markdown",
   "id": "5ee1cd3d",
   "metadata": {},
   "source": [
    "# Split the data"
   ]
  },
  {
   "cell_type": "markdown",
   "id": "58c912a8",
   "metadata": {},
   "source": [
    "Separate the features and target and convert to arrays (necessary for using sklearn). Split the data into training and test set (75-25). `client_id` should be dropped later on, because this feature should not be used for making predictions."
   ]
  },
  {
   "cell_type": "code",
   "execution_count": 60,
   "id": "b079969b",
   "metadata": {},
   "outputs": [],
   "source": [
    "X = train_m3.drop('target', axis=1).to_numpy()\n",
    "y = train_m3['target'].to_numpy()\n",
    "X_train, X_test, y_train, y_test = train_test_split(X, y, test_size=0.25, stratify=y, random_state=42)"
   ]
  },
  {
   "cell_type": "markdown",
   "id": "b489c764",
   "metadata": {},
   "source": [
    "# Feature selection"
   ]
  },
  {
   "cell_type": "markdown",
   "id": "76166f24",
   "metadata": {},
   "source": [
    "## Correlation "
   ]
  },
  {
   "cell_type": "markdown",
   "id": "23b6c892",
   "metadata": {},
   "source": [
    "Convert back to a dataframe and add the training target to the training data. Drop the `client_id` feature."
   ]
  },
  {
   "cell_type": "code",
   "execution_count": 61,
   "id": "b72c6b0a",
   "metadata": {},
   "outputs": [
    {
     "name": "stdout",
     "output_type": "stream",
     "text": [
      "data types:\n"
     ]
    },
    {
     "data": {
      "text/plain": [
       "client_id                            string\n",
       "homebanking_active                     bool\n",
       "has_homebanking                        bool\n",
       "has_insurance_21                       bool\n",
       "has_insurance_23                       bool\n",
       "has_life_insurance_fixed_cap           bool\n",
       "has_life_insurance_decreasing_cap      bool\n",
       "has_fire_car_other_insurance           bool\n",
       "has_personal_loan                      bool\n",
       "has_mortgage_loan                      bool\n",
       "has_current_account                    bool\n",
       "has_pension_saving                     bool\n",
       "has_savings_account                    bool\n",
       "has_savings_account_starter            bool\n",
       "has_current_account_starter            bool\n",
       "bal_insurance_21                      int64\n",
       "bal_insurance_23                      int64\n",
       "cap_life_insurance_fixed_cap          int64\n",
       "cap_life_insurance_decreasing_cap     int64\n",
       "prem_fire_car_other_insurance         int64\n",
       "bal_personal_loan                     int64\n",
       "bal_mortgage_loan                     int64\n",
       "bal_current_account                   int64\n",
       "bal_pension_saving                    int64\n",
       "bal_savings_account                   int64\n",
       "bal_savings_account_starter           int64\n",
       "bal_current_account_starter           int64\n",
       "visits_distinct_so                    int64\n",
       "visits_distinct_so_areas              int64\n",
       "customer_gender                        bool\n",
       "customer_postal_code                 string\n",
       "customer_self_employed                 bool\n",
       "customer_age                          int64\n",
       "target                                 bool\n",
       "dtype: object"
      ]
     },
     "execution_count": 61,
     "metadata": {},
     "output_type": "execute_result"
    }
   ],
   "source": [
    "X_train_df = to_df_restore_dtypes(X_train, train_m3, 'target')\n",
    "X_train_df.drop('client_id', axis=1)\n",
    "X_train_df['target'] = y_train.tolist()\n",
    "\n",
    "print('data types:')\n",
    "X_train_df.dtypes"
   ]
  },
  {
   "cell_type": "markdown",
   "id": "c064aaee",
   "metadata": {},
   "source": [
    "Select only numerical features and convert boolean back to numerical so they can be included in the correlation matrix."
   ]
  },
  {
   "cell_type": "code",
   "execution_count": 62,
   "id": "2ce63202",
   "metadata": {},
   "outputs": [],
   "source": [
    "# select all features that aren't strings\n",
    "X_train_df = X_train_df.select_dtypes(exclude='string')  \n",
    "\n",
    "# convert the boolean features to integers\n",
    "bool_columns = X_train_df.select_dtypes(include='bool').columns.tolist() \n",
    "X_train_df[bool_columns] = X_train_df[bool_columns].astype('int64')"
   ]
  },
  {
   "cell_type": "markdown",
   "id": "d39c94bd",
   "metadata": {},
   "source": [
    "Look at the correlations with the `target`."
   ]
  },
  {
   "cell_type": "code",
   "execution_count": 63,
   "id": "0c34432e",
   "metadata": {
    "scrolled": false
   },
   "outputs": [
    {
     "name": "stdout",
     "output_type": "stream",
     "text": [
      "target                               1.00\n",
      "homebanking_active                   0.10\n",
      "has_life_insurance_decreasing_cap    0.10\n",
      "has_homebanking                      0.10\n",
      "has_current_account                  0.10\n",
      "bal_mortgage_loan                    0.10\n",
      "has_mortgage_loan                    0.10\n",
      "cap_life_insurance_decreasing_cap    0.09\n",
      "bal_savings_account                 -0.07\n",
      "bal_current_account                  0.06\n",
      "has_personal_loan                    0.06\n",
      "customer_age                        -0.06\n",
      "bal_personal_loan                    0.06\n",
      "has_savings_account                 -0.05\n",
      "visits_distinct_so                   0.04\n",
      "visits_distinct_so_areas             0.03\n",
      "has_current_account_starter          0.03\n",
      "bal_current_account_starter          0.03\n",
      "customer_gender                     -0.03\n",
      "prem_fire_car_other_insurance        0.03\n",
      "has_fire_car_other_insurance         0.02\n",
      "has_savings_account_starter          0.02\n",
      "customer_self_employed               0.02\n",
      "has_insurance_21                     0.02\n",
      "bal_savings_account_starter          0.02\n",
      "bal_insurance_21                     0.01\n",
      "has_pension_saving                   0.00\n",
      "bal_pension_saving                  -0.00\n",
      "has_life_insurance_fixed_cap        -0.00\n",
      "cap_life_insurance_fixed_cap         0.00\n",
      "has_insurance_23                    -0.00\n",
      "bal_insurance_23                    -0.00\n",
      "Name: target, dtype: float64\n"
     ]
    }
   ],
   "source": [
    "corrMat = X_train_df.corr()\n",
    "sorted_corr = corrMat['target'].sort_values(ascending=False, key=abs)\n",
    "print(np.round(sorted_corr,2))\n",
    "highest_corr = sorted_corr[0.02 <= np.abs(np.round(sorted_corr, 2))].iloc[1:].index.tolist() "
   ]
  },
  {
   "cell_type": "markdown",
   "id": "94565127",
   "metadata": {},
   "source": [
    "Look at correlation between the features that are most correlated with the target (abs(corr) > 0.02)."
   ]
  },
  {
   "cell_type": "code",
   "execution_count": 64,
   "id": "2636cd2e",
   "metadata": {},
   "outputs": [
    {
     "data": {
      "image/png": "[encoded data removed]",
      "text/plain": [
       "<Figure size 432x288 with 2 Axes>"
      ]
     },
     "metadata": {
      "needs_background": "light"
     },
     "output_type": "display_data"
    }
   ],
   "source": [
    "corrMat = X_train_df[highest_corr].corr()\n",
    "sn.heatmap(corrMat, annot=False)\n",
    "plt.show()"
   ]
  },
  {
   "cell_type": "markdown",
   "id": "f24642d2",
   "metadata": {},
   "source": [
    "The square in the upper left corner is highly correlated, from this set of features, we could select a smaller subset. Along the diagonal are some small squares, these features also show similar correlation patterns to the other features. From these small squares, one of the two features can be left out. The one with lower correlations to other features is kept."
   ]
  },
  {
   "cell_type": "code",
   "execution_count": 65,
   "id": "30c17186",
   "metadata": {},
   "outputs": [
    {
     "data": {
      "image/png": "[encoded data removed]",
      "text/plain": [
       "<Figure size 432x288 with 2 Axes>"
      ]
     },
     "metadata": {
      "needs_background": "light"
     },
     "output_type": "display_data"
    }
   ],
   "source": [
    "small_squares_drop = ['bal_current_account', 'has_personal_loan', 'visits_distinct_so', \n",
    "                      'has_current_account_starter', 'has_fire_car_other_insurance']\n",
    "features_new = list(set(highest_corr) - set(small_squares_drop))  \n",
    "\n",
    "upper_left = ['homebanking_active', 'has_life_insurance_decreasing_cap', 'has_homebanking', \n",
    "              'has_current_account', 'bal_mortgage_loan', 'has_mortgage_loan', \n",
    "              'cap_life_insurance_decreasing_cap', 'bal_savings_account']\n",
    "corrMat = X_train_df[upper_left].corr()\n",
    "sn.heatmap(corrMat, annot=False)\n",
    "plt.show()"
   ]
  },
  {
   "cell_type": "code",
   "execution_count": 66,
   "id": "311240b3",
   "metadata": {},
   "outputs": [
    {
     "data": {
      "image/png": "[encoded data removed]",
      "text/plain": [
       "<Figure size 432x288 with 2 Axes>"
      ]
     },
     "metadata": {
      "needs_background": "light"
     },
     "output_type": "display_data"
    }
   ],
   "source": [
    "upper_left_drop = ['has_life_insurance_decreasing_cap', 'has_mortgage_loan', 'has_homebanking']\n",
    "\n",
    "new_upper_left = list(set(upper_left) - set(upper_left_drop)) \n",
    "corrMat = X_train_df[new_upper_left].corr()\n",
    "sn.heatmap(corrMat, annot=False)\n",
    "plt.show()"
   ]
  },
  {
   "cell_type": "code",
   "execution_count": 67,
   "id": "52005d8b",
   "metadata": {},
   "outputs": [
    {
     "data": {
      "image/png": "[encoded data removed]",
      "text/plain": [
       "<Figure size 432x288 with 2 Axes>"
      ]
     },
     "metadata": {
      "needs_background": "light"
     },
     "output_type": "display_data"
    }
   ],
   "source": [
    "features_new = list(set(features_new) - set(upper_left_drop))  \n",
    "corrMat = X_train_df[features_new].corr()\n",
    "sn.heatmap(corrMat, annot=False)\n",
    "plt.show()"
   ]
  },
  {
   "cell_type": "code",
   "execution_count": 68,
   "id": "0503c907",
   "metadata": {},
   "outputs": [
    {
     "data": {
      "image/png": "[encoded data removed]",
      "text/plain": [
       "<Figure size 432x288 with 2 Axes>"
      ]
     },
     "metadata": {
      "needs_background": "light"
     },
     "output_type": "display_data"
    }
   ],
   "source": [
    "drop = ['homebanking_active', 'has_savings_account', \n",
    "        'cap_life_insurance_decreasing_cap', 'has_savings_account_starter']\n",
    "\n",
    "feature_set_num = list(set(features_new) - set(drop)) \n",
    "corrMat = X_train_df[feature_set_num].corr()\n",
    "sn.heatmap(corrMat, annot=False)\n",
    "plt.show()\n",
    "\n",
    "feature_set = list(feature_set_num)  + list(['customer_postal_code'])"
   ]
  },
  {
   "cell_type": "markdown",
   "id": "4c1c9f1b",
   "metadata": {},
   "source": [
    "# PCA"
   ]
  },
  {
   "cell_type": "markdown",
   "id": "2427dc0d",
   "metadata": {},
   "source": [
    "Convert back to a dataframe and restore the data types of the features."
   ]
  },
  {
   "cell_type": "code",
   "execution_count": 69,
   "id": "20040bc6",
   "metadata": {},
   "outputs": [
    {
     "data": {
      "text/html": [
       "<div>\n",
       "<style scoped>\n",
       "    .dataframe tbody tr th:only-of-type {\n",
       "        vertical-align: middle;\n",
       "    }\n",
       "\n",
       "    .dataframe tbody tr th {\n",
       "        vertical-align: top;\n",
       "    }\n",
       "\n",
       "    .dataframe thead th {\n",
       "        text-align: right;\n",
       "    }\n",
       "</style>\n",
       "<table border=\"1\" class=\"dataframe\">\n",
       "  <thead>\n",
       "    <tr style=\"text-align: right;\">\n",
       "      <th></th>\n",
       "      <th>homebanking_active</th>\n",
       "      <th>has_homebanking</th>\n",
       "      <th>has_insurance_21</th>\n",
       "      <th>has_insurance_23</th>\n",
       "      <th>has_life_insurance_fixed_cap</th>\n",
       "      <th>has_life_insurance_decreasing_cap</th>\n",
       "      <th>has_fire_car_other_insurance</th>\n",
       "      <th>has_personal_loan</th>\n",
       "      <th>has_mortgage_loan</th>\n",
       "      <th>has_current_account</th>\n",
       "      <th>...</th>\n",
       "      <th>bal_pension_saving</th>\n",
       "      <th>bal_savings_account</th>\n",
       "      <th>bal_savings_account_starter</th>\n",
       "      <th>bal_current_account_starter</th>\n",
       "      <th>visits_distinct_so</th>\n",
       "      <th>visits_distinct_so_areas</th>\n",
       "      <th>customer_gender</th>\n",
       "      <th>customer_postal_code</th>\n",
       "      <th>customer_self_employed</th>\n",
       "      <th>customer_age</th>\n",
       "    </tr>\n",
       "  </thead>\n",
       "  <tbody>\n",
       "    <tr>\n",
       "      <th>0</th>\n",
       "      <td>False</td>\n",
       "      <td>False</td>\n",
       "      <td>False</td>\n",
       "      <td>False</td>\n",
       "      <td>False</td>\n",
       "      <td>False</td>\n",
       "      <td>True</td>\n",
       "      <td>False</td>\n",
       "      <td>False</td>\n",
       "      <td>True</td>\n",
       "      <td>...</td>\n",
       "      <td>0</td>\n",
       "      <td>32830</td>\n",
       "      <td>0</td>\n",
       "      <td>0</td>\n",
       "      <td>1</td>\n",
       "      <td>1</td>\n",
       "      <td>False</td>\n",
       "      <td>2050</td>\n",
       "      <td>False</td>\n",
       "      <td>71</td>\n",
       "    </tr>\n",
       "    <tr>\n",
       "      <th>1</th>\n",
       "      <td>False</td>\n",
       "      <td>False</td>\n",
       "      <td>True</td>\n",
       "      <td>False</td>\n",
       "      <td>False</td>\n",
       "      <td>False</td>\n",
       "      <td>False</td>\n",
       "      <td>False</td>\n",
       "      <td>False</td>\n",
       "      <td>False</td>\n",
       "      <td>...</td>\n",
       "      <td>0</td>\n",
       "      <td>6020</td>\n",
       "      <td>0</td>\n",
       "      <td>0</td>\n",
       "      <td>1</td>\n",
       "      <td>1</td>\n",
       "      <td>True</td>\n",
       "      <td>8780</td>\n",
       "      <td>False</td>\n",
       "      <td>51</td>\n",
       "    </tr>\n",
       "    <tr>\n",
       "      <th>2</th>\n",
       "      <td>True</td>\n",
       "      <td>True</td>\n",
       "      <td>False</td>\n",
       "      <td>False</td>\n",
       "      <td>False</td>\n",
       "      <td>True</td>\n",
       "      <td>True</td>\n",
       "      <td>False</td>\n",
       "      <td>False</td>\n",
       "      <td>False</td>\n",
       "      <td>...</td>\n",
       "      <td>0</td>\n",
       "      <td>11000</td>\n",
       "      <td>0</td>\n",
       "      <td>0</td>\n",
       "      <td>2</td>\n",
       "      <td>2</td>\n",
       "      <td>True</td>\n",
       "      <td>3580</td>\n",
       "      <td>False</td>\n",
       "      <td>42</td>\n",
       "    </tr>\n",
       "    <tr>\n",
       "      <th>3</th>\n",
       "      <td>False</td>\n",
       "      <td>False</td>\n",
       "      <td>False</td>\n",
       "      <td>False</td>\n",
       "      <td>False</td>\n",
       "      <td>False</td>\n",
       "      <td>True</td>\n",
       "      <td>False</td>\n",
       "      <td>False</td>\n",
       "      <td>False</td>\n",
       "      <td>...</td>\n",
       "      <td>0</td>\n",
       "      <td>10270</td>\n",
       "      <td>0</td>\n",
       "      <td>0</td>\n",
       "      <td>2</td>\n",
       "      <td>1</td>\n",
       "      <td>True</td>\n",
       "      <td>4750</td>\n",
       "      <td>True</td>\n",
       "      <td>61</td>\n",
       "    </tr>\n",
       "    <tr>\n",
       "      <th>4</th>\n",
       "      <td>False</td>\n",
       "      <td>False</td>\n",
       "      <td>False</td>\n",
       "      <td>False</td>\n",
       "      <td>False</td>\n",
       "      <td>False</td>\n",
       "      <td>False</td>\n",
       "      <td>False</td>\n",
       "      <td>False</td>\n",
       "      <td>True</td>\n",
       "      <td>...</td>\n",
       "      <td>0</td>\n",
       "      <td>34000</td>\n",
       "      <td>0</td>\n",
       "      <td>0</td>\n",
       "      <td>1</td>\n",
       "      <td>1</td>\n",
       "      <td>False</td>\n",
       "      <td>1190</td>\n",
       "      <td>False</td>\n",
       "      <td>88</td>\n",
       "    </tr>\n",
       "    <tr>\n",
       "      <th>...</th>\n",
       "      <td>...</td>\n",
       "      <td>...</td>\n",
       "      <td>...</td>\n",
       "      <td>...</td>\n",
       "      <td>...</td>\n",
       "      <td>...</td>\n",
       "      <td>...</td>\n",
       "      <td>...</td>\n",
       "      <td>...</td>\n",
       "      <td>...</td>\n",
       "      <td>...</td>\n",
       "      <td>...</td>\n",
       "      <td>...</td>\n",
       "      <td>...</td>\n",
       "      <td>...</td>\n",
       "      <td>...</td>\n",
       "      <td>...</td>\n",
       "      <td>...</td>\n",
       "      <td>...</td>\n",
       "      <td>...</td>\n",
       "      <td>...</td>\n",
       "    </tr>\n",
       "    <tr>\n",
       "      <th>47586</th>\n",
       "      <td>True</td>\n",
       "      <td>True</td>\n",
       "      <td>False</td>\n",
       "      <td>False</td>\n",
       "      <td>False</td>\n",
       "      <td>False</td>\n",
       "      <td>True</td>\n",
       "      <td>False</td>\n",
       "      <td>False</td>\n",
       "      <td>True</td>\n",
       "      <td>...</td>\n",
       "      <td>0</td>\n",
       "      <td>11200</td>\n",
       "      <td>0</td>\n",
       "      <td>0</td>\n",
       "      <td>1</td>\n",
       "      <td>1</td>\n",
       "      <td>False</td>\n",
       "      <td>2940</td>\n",
       "      <td>False</td>\n",
       "      <td>62</td>\n",
       "    </tr>\n",
       "    <tr>\n",
       "      <th>47587</th>\n",
       "      <td>False</td>\n",
       "      <td>False</td>\n",
       "      <td>False</td>\n",
       "      <td>False</td>\n",
       "      <td>False</td>\n",
       "      <td>False</td>\n",
       "      <td>False</td>\n",
       "      <td>False</td>\n",
       "      <td>False</td>\n",
       "      <td>False</td>\n",
       "      <td>...</td>\n",
       "      <td>0</td>\n",
       "      <td>19880</td>\n",
       "      <td>0</td>\n",
       "      <td>0</td>\n",
       "      <td>1</td>\n",
       "      <td>1</td>\n",
       "      <td>True</td>\n",
       "      <td>2380</td>\n",
       "      <td>False</td>\n",
       "      <td>62</td>\n",
       "    </tr>\n",
       "    <tr>\n",
       "      <th>47588</th>\n",
       "      <td>True</td>\n",
       "      <td>True</td>\n",
       "      <td>False</td>\n",
       "      <td>False</td>\n",
       "      <td>False</td>\n",
       "      <td>False</td>\n",
       "      <td>True</td>\n",
       "      <td>False</td>\n",
       "      <td>False</td>\n",
       "      <td>True</td>\n",
       "      <td>...</td>\n",
       "      <td>0</td>\n",
       "      <td>33430</td>\n",
       "      <td>0</td>\n",
       "      <td>0</td>\n",
       "      <td>1</td>\n",
       "      <td>1</td>\n",
       "      <td>False</td>\n",
       "      <td>8400</td>\n",
       "      <td>False</td>\n",
       "      <td>81</td>\n",
       "    </tr>\n",
       "    <tr>\n",
       "      <th>47589</th>\n",
       "      <td>False</td>\n",
       "      <td>False</td>\n",
       "      <td>False</td>\n",
       "      <td>False</td>\n",
       "      <td>False</td>\n",
       "      <td>False</td>\n",
       "      <td>True</td>\n",
       "      <td>False</td>\n",
       "      <td>False</td>\n",
       "      <td>False</td>\n",
       "      <td>...</td>\n",
       "      <td>0</td>\n",
       "      <td>25710</td>\n",
       "      <td>0</td>\n",
       "      <td>0</td>\n",
       "      <td>1</td>\n",
       "      <td>1</td>\n",
       "      <td>True</td>\n",
       "      <td>9620</td>\n",
       "      <td>False</td>\n",
       "      <td>47</td>\n",
       "    </tr>\n",
       "    <tr>\n",
       "      <th>47590</th>\n",
       "      <td>False</td>\n",
       "      <td>False</td>\n",
       "      <td>False</td>\n",
       "      <td>False</td>\n",
       "      <td>False</td>\n",
       "      <td>False</td>\n",
       "      <td>False</td>\n",
       "      <td>False</td>\n",
       "      <td>False</td>\n",
       "      <td>False</td>\n",
       "      <td>...</td>\n",
       "      <td>0</td>\n",
       "      <td>11120</td>\n",
       "      <td>0</td>\n",
       "      <td>0</td>\n",
       "      <td>1</td>\n",
       "      <td>1</td>\n",
       "      <td>True</td>\n",
       "      <td>2920</td>\n",
       "      <td>False</td>\n",
       "      <td>72</td>\n",
       "    </tr>\n",
       "  </tbody>\n",
       "</table>\n",
       "<p>47591 rows × 32 columns</p>\n",
       "</div>"
      ],
      "text/plain": [
       "       homebanking_active  has_homebanking  has_insurance_21  \\\n",
       "0                   False            False             False   \n",
       "1                   False            False              True   \n",
       "2                    True             True             False   \n",
       "3                   False            False             False   \n",
       "4                   False            False             False   \n",
       "...                   ...              ...               ...   \n",
       "47586                True             True             False   \n",
       "47587               False            False             False   \n",
       "47588                True             True             False   \n",
       "47589               False            False             False   \n",
       "47590               False            False             False   \n",
       "\n",
       "       has_insurance_23  has_life_insurance_fixed_cap  \\\n",
       "0                 False                         False   \n",
       "1                 False                         False   \n",
       "2                 False                         False   \n",
       "3                 False                         False   \n",
       "4                 False                         False   \n",
       "...                 ...                           ...   \n",
       "47586             False                         False   \n",
       "47587             False                         False   \n",
       "47588             False                         False   \n",
       "47589             False                         False   \n",
       "47590             False                         False   \n",
       "\n",
       "       has_life_insurance_decreasing_cap  has_fire_car_other_insurance  \\\n",
       "0                                  False                          True   \n",
       "1                                  False                         False   \n",
       "2                                   True                          True   \n",
       "3                                  False                          True   \n",
       "4                                  False                         False   \n",
       "...                                  ...                           ...   \n",
       "47586                              False                          True   \n",
       "47587                              False                         False   \n",
       "47588                              False                          True   \n",
       "47589                              False                          True   \n",
       "47590                              False                         False   \n",
       "\n",
       "       has_personal_loan  has_mortgage_loan  has_current_account  ...  \\\n",
       "0                  False              False                 True  ...   \n",
       "1                  False              False                False  ...   \n",
       "2                  False              False                False  ...   \n",
       "3                  False              False                False  ...   \n",
       "4                  False              False                 True  ...   \n",
       "...                  ...                ...                  ...  ...   \n",
       "47586              False              False                 True  ...   \n",
       "47587              False              False                False  ...   \n",
       "47588              False              False                 True  ...   \n",
       "47589              False              False                False  ...   \n",
       "47590              False              False                False  ...   \n",
       "\n",
       "       bal_pension_saving  bal_savings_account  bal_savings_account_starter  \\\n",
       "0                       0                32830                            0   \n",
       "1                       0                 6020                            0   \n",
       "2                       0                11000                            0   \n",
       "3                       0                10270                            0   \n",
       "4                       0                34000                            0   \n",
       "...                   ...                  ...                          ...   \n",
       "47586                   0                11200                            0   \n",
       "47587                   0                19880                            0   \n",
       "47588                   0                33430                            0   \n",
       "47589                   0                25710                            0   \n",
       "47590                   0                11120                            0   \n",
       "\n",
       "       bal_current_account_starter  visits_distinct_so  \\\n",
       "0                                0                   1   \n",
       "1                                0                   1   \n",
       "2                                0                   2   \n",
       "3                                0                   2   \n",
       "4                                0                   1   \n",
       "...                            ...                 ...   \n",
       "47586                            0                   1   \n",
       "47587                            0                   1   \n",
       "47588                            0                   1   \n",
       "47589                            0                   1   \n",
       "47590                            0                   1   \n",
       "\n",
       "       visits_distinct_so_areas  customer_gender  customer_postal_code  \\\n",
       "0                             1            False                  2050   \n",
       "1                             1             True                  8780   \n",
       "2                             2             True                  3580   \n",
       "3                             1             True                  4750   \n",
       "4                             1            False                  1190   \n",
       "...                         ...              ...                   ...   \n",
       "47586                         1            False                  2940   \n",
       "47587                         1             True                  2380   \n",
       "47588                         1            False                  8400   \n",
       "47589                         1             True                  9620   \n",
       "47590                         1             True                  2920   \n",
       "\n",
       "       customer_self_employed  customer_age  \n",
       "0                       False            71  \n",
       "1                       False            51  \n",
       "2                       False            42  \n",
       "3                        True            61  \n",
       "4                       False            88  \n",
       "...                       ...           ...  \n",
       "47586                   False            62  \n",
       "47587                   False            62  \n",
       "47588                   False            81  \n",
       "47589                   False            47  \n",
       "47590                   False            72  \n",
       "\n",
       "[47591 rows x 32 columns]"
      ]
     },
     "execution_count": 69,
     "metadata": {},
     "output_type": "execute_result"
    }
   ],
   "source": [
    "X_train_df = to_df_restore_dtypes(X_train, train_m3, 'target')\n",
    "X_train_df.drop('client_id', axis=1)"
   ]
  },
  {
   "cell_type": "markdown",
   "id": "9fc7f264",
   "metadata": {},
   "source": [
    "Select only the numerical features. Convert back to an array (for sklearn)."
   ]
  },
  {
   "cell_type": "code",
   "execution_count": 70,
   "id": "cb835bfa",
   "metadata": {},
   "outputs": [
    {
     "name": "stdout",
     "output_type": "stream",
     "text": [
      "data types:\n",
      "bal_insurance_21                     int64\n",
      "bal_insurance_23                     int64\n",
      "cap_life_insurance_fixed_cap         int64\n",
      "cap_life_insurance_decreasing_cap    int64\n",
      "prem_fire_car_other_insurance        int64\n",
      "bal_personal_loan                    int64\n",
      "bal_mortgage_loan                    int64\n",
      "bal_current_account                  int64\n",
      "bal_pension_saving                   int64\n",
      "bal_savings_account                  int64\n",
      "bal_savings_account_starter          int64\n",
      "bal_current_account_starter          int64\n",
      "visits_distinct_so                   int64\n",
      "visits_distinct_so_areas             int64\n",
      "customer_age                         int64\n",
      "dtype: object\n"
     ]
    }
   ],
   "source": [
    "X_train_df = X_train_df.select_dtypes(include='number') \n",
    "\n",
    "print('data types:')\n",
    "print(X_train_df.dtypes)\n",
    "\n",
    "X_train_arr = X_train_df.to_numpy()"
   ]
  },
  {
   "cell_type": "markdown",
   "id": "9932bd18",
   "metadata": {},
   "source": [
    "Scale the data so all feature will be considered equally important by PCA."
   ]
  },
  {
   "cell_type": "code",
   "execution_count": 71,
   "id": "062f9d06",
   "metadata": {},
   "outputs": [],
   "source": [
    "scaler = StandardScaler()\n",
    "X_scaled = scaler.fit_transform(X_train_arr)"
   ]
  },
  {
   "cell_type": "markdown",
   "id": "7ad87142",
   "metadata": {},
   "source": [
    "Apply PCA with the number of components such that at least 80% of variance is explained."
   ]
  },
  {
   "cell_type": "code",
   "execution_count": 72,
   "id": "fb99053e",
   "metadata": {},
   "outputs": [
    {
     "name": "stdout",
     "output_type": "stream",
     "text": [
      "number of components such that at least 80% of variance is explained: 11\n"
     ]
    }
   ],
   "source": [
    "pca_80 = PCA(n_components=0.8, random_state=0)\n",
    "pca_80.fit(X_scaled)\n",
    "\n",
    "print('number of components such that at least 80% of variance is explained:', pca_80.n_components_)"
   ]
  },
  {
   "cell_type": "markdown",
   "id": "979d570c",
   "metadata": {},
   "source": [
    "Apply PCA with max number of components."
   ]
  },
  {
   "cell_type": "code",
   "execution_count": 73,
   "id": "a825f20b",
   "metadata": {},
   "outputs": [
    {
     "name": "stdout",
     "output_type": "stream",
     "text": [
      "percentage of variance explained by each component:\n",
      "[0.16 0.09 0.07 0.07 0.07 0.07 0.07 0.07 0.06 0.06 0.06 0.05 0.04 0.03\n",
      " 0.02]\n",
      "\n",
      "total percentage of variance explained by the first n = 6 components:\n",
      "54.0 %\n"
     ]
    }
   ],
   "source": [
    "pca_full = PCA(random_state=0)\n",
    "pca_full.fit(X_scaled)\n",
    "\n",
    "n = 6\n",
    "\n",
    "print('percentage of variance explained by each component:')\n",
    "print(np.round(pca_full.explained_variance_ratio_,2))\n",
    "print()\n",
    "print('total percentage of variance explained by the first n =', n, 'components:')\n",
    "print(np.round(np.sum(pca_full.explained_variance_ratio_[:n])*100), '%')"
   ]
  },
  {
   "cell_type": "markdown",
   "id": "ca98ac77",
   "metadata": {},
   "source": [
    "Project onto the first principal components."
   ]
  },
  {
   "cell_type": "code",
   "execution_count": 74,
   "id": "a73f0ffb",
   "metadata": {},
   "outputs": [
    {
     "data": {
      "image/png": "[encoded data removed]",
      "text/plain": [
       "<Figure size 576x576 with 1 Axes>"
      ]
     },
     "metadata": {
      "needs_background": "light"
     },
     "output_type": "display_data"
    }
   ],
   "source": [
    "proj_X = pca_full.transform(X_scaled)\n",
    "\n",
    "colors = [\"turquoise\", \"darkorange\"]\n",
    "\n",
    "fig, ax = plt.subplots(1, 1, figsize=(8,8))\n",
    "for color, i, target_name in zip(colors, [0, 1], [\"0\", \"1\"]):\n",
    "    plt.scatter(\n",
    "        proj_X[y_train.astype(int) == i, 0],  # 1st component \n",
    "        proj_X[y_train.astype(int) == i, 1],  # 2nd component\n",
    "        #proj_X[y_train.astype(int) == i, 2],  # 3rd component\n",
    "        color=color,\n",
    "        lw=2,\n",
    "        label=target_name,\n",
    "    )\n",
    "plt.legend(loc=\"best\", shadow=False, scatterpoints=1)\n",
    "ax.set_xlabel('1st component')\n",
    "ax.set_ylabel('2nd component')\n",
    "plt.show()"
   ]
  },
  {
   "cell_type": "markdown",
   "id": "b8b57e10",
   "metadata": {},
   "source": [
    "Look at how much variance in the features is explained by the components."
   ]
  },
  {
   "cell_type": "code",
   "execution_count": 75,
   "id": "9fbecb78",
   "metadata": {},
   "outputs": [
    {
     "name": "stdout",
     "output_type": "stream",
     "text": [
      "first principal component:\n",
      "bal_mortgage_loan                    0.460642\n",
      "cap_life_insurance_decreasing_cap    0.459301\n",
      "visits_distinct_so                   0.432580\n",
      "visits_distinct_so_areas             0.323305\n",
      "prem_fire_car_other_insurance        0.250827\n",
      "customer_age                        -0.238179\n",
      "bal_current_account                  0.218044\n",
      "bal_personal_loan                    0.198662\n",
      "bal_insurance_21                     0.158840\n",
      "bal_savings_account                 -0.138226\n",
      "bal_current_account_starter          0.121397\n",
      "bal_savings_account_starter          0.119815\n",
      "bal_pension_saving                   0.043454\n",
      "cap_life_insurance_fixed_cap         0.041731\n",
      "bal_insurance_23                     0.038576\n",
      "Name: 1, dtype: float64\n"
     ]
    }
   ],
   "source": [
    "comp_features = X_train_df.columns.tolist()\n",
    "components = pd.DataFrame(pca_full.components_, \n",
    "                          index = range(1, pca_full.n_components_ + 1), columns = comp_features)\n",
    "\n",
    "print('first principal component:')\n",
    "print(components.loc[1,:].sort_values(ascending=False, key=abs))"
   ]
  },
  {
   "cell_type": "code",
   "execution_count": 76,
   "id": "a7083384",
   "metadata": {},
   "outputs": [
    {
     "name": "stdout",
     "output_type": "stream",
     "text": [
      "loadings on first 4 components:\n",
      "                                          1         2         3         4\n",
      "bal_insurance_21                   0.246965 -0.151078 -0.092903  0.487210\n",
      "bal_insurance_23                   0.059978 -0.082111  0.018882  0.603393\n",
      "cap_life_insurance_fixed_cap       0.064883 -0.022608  0.042590  0.290065\n",
      "cap_life_insurance_decreasing_cap  0.714124  0.360471 -0.329767 -0.064603\n",
      "prem_fire_car_other_insurance      0.389988 -0.378970 -0.004615 -0.232670\n",
      "bal_personal_loan                  0.308881 -0.079700 -0.022013 -0.203831\n",
      "bal_mortgage_loan                  0.716210  0.348740 -0.290406 -0.108872\n",
      "bal_current_account                0.339017  0.229837  0.601614 -0.140018\n",
      "bal_pension_saving                 0.067562 -0.083586  0.054903  0.367903\n",
      "bal_savings_account               -0.214915 -0.336566 -0.615668 -0.119762\n",
      "bal_savings_account_starter        0.186289 -0.252613  0.199819  0.098009\n",
      "bal_current_account_starter        0.188749  0.278362  0.278093 -0.037641\n",
      "visits_distinct_so                 0.672578 -0.480585  0.040352 -0.019646\n",
      "visits_distinct_so_areas           0.502677 -0.523521  0.150074 -0.026116\n",
      "customer_age                      -0.370322 -0.392170  0.165106 -0.309285\n",
      "\n",
      "                                   var_by_comp_1  var_by_comp_1-2\n",
      "bal_mortgage_loan                       0.512957         0.634576\n",
      "cap_life_insurance_decreasing_cap       0.509973         0.639912\n",
      "visits_distinct_so                      0.452361         0.683323\n",
      "visits_distinct_so_areas                0.252684         0.526759\n",
      "prem_fire_car_other_insurance           0.152091         0.295709\n",
      "customer_age                            0.137139         0.290936\n",
      "bal_current_account                     0.114933         0.167758\n",
      "bal_personal_loan                       0.095408         0.101760\n",
      "bal_insurance_21                        0.060992         0.083816\n",
      "bal_savings_account                     0.046188         0.159465\n",
      "bal_current_account_starter             0.035626         0.113112\n",
      "bal_savings_account_starter             0.034704         0.098517\n",
      "bal_pension_saving                      0.004565         0.011551\n",
      "cap_life_insurance_fixed_cap            0.004210         0.004721\n",
      "bal_insurance_23                        0.003597         0.010340\n"
     ]
    }
   ],
   "source": [
    "D = np.diag(pca_full.explained_variance_)  # diagonal matrix of the eigenvalues (components x components)\n",
    "U = pca_full.components_.transpose()  # eigenvectors (features x components)\n",
    "loadings = np.dot(U, np.sqrt(D))  # loadings of the features on the components (features x components)\n",
    "loadings = pd.DataFrame(loadings, index = comp_features, columns = range(1, pca_full.n_components_ + 1))\n",
    "\n",
    "# the sum of squared loadings gives how much variance is explained by the components over which is summed\n",
    "var_by_colnames = ['var_by_comp_1','var_by_comp_1-2','var_by_comp_1-3','var_by_comp_1-4','var_by_comp_1-5',\n",
    "                  'var_by_comp_1-6','var_by_comp_1-7','var_by_comp_1-8','var_by_comp_1-9','var_by_comp_1-10',\n",
    "                  'var_by_comp_1-11']\n",
    "for i in range(len(var_by_colnames)):\n",
    "    loadings[var_by_colnames[i]] = loadings.apply(lambda row: np.sum(np.square(row.iloc[:i+1])), axis = 1)\n",
    "\n",
    "print('loadings on first 4 components:')\n",
    "print(loadings.iloc[:,:4])\n",
    "print()\n",
    "print(loadings[['var_by_comp_1','var_by_comp_1-2']].sort_values(by='var_by_comp_1', ascending=False))"
   ]
  }
 ],
 "metadata": {
  "kernelspec": {
   "display_name": "Python 3 (ipykernel)",
   "language": "python",
   "name": "python3"
  },
  "language_info": {
   "codemirror_mode": {
    "name": "ipython",
    "version": 3
   },
   "file_extension": ".py",
   "mimetype": "text/x-python",
   "name": "python",
   "nbconvert_exporter": "python",
   "pygments_lexer": "ipython3",
   "version": "3.9.5"
  },
  "latex_envs": {
   "LaTeX_envs_menu_present": true,
   "autoclose": false,
   "autocomplete": true,
   "bibliofile": "biblio.bib",
   "cite_by": "apalike",
   "current_citInitial": 1,
   "eqLabelWithNumbers": true,
   "eqNumInitial": 1,
   "hotkeys": {
    "equation": "Ctrl-E",
    "itemize": "Ctrl-I"
   },
   "labels_anchors": false,
   "latex_user_defs": false,
   "report_style_numbering": false,
   "user_envs_cfg": false
  },
  "toc": {
   "base_numbering": 1,
   "nav_menu": {},
   "number_sections": true,
   "sideBar": true,
   "skip_h1_title": false,
   "title_cell": "Table of Contents",
   "title_sidebar": "Contents",
   "toc_cell": false,
   "toc_position": {
    "height": "calc(100% - 180px)",
    "left": "10px",
    "top": "150px",
    "width": "245.333px"
   },
   "toc_section_display": true,
   "toc_window_display": true
  },
  "varInspector": {
   "cols": {
    "lenName": 16,
    "lenType": 16,
    "lenVar": 40
   },
   "kernels_config": {
    "python": {
     "delete_cmd_postfix": "",
     "delete_cmd_prefix": "del ",
     "library": "var_list.py",
     "varRefreshCmd": "print(var_dic_list())"
    },
    "r": {
     "delete_cmd_postfix": ") ",
     "delete_cmd_prefix": "rm(",
     "library": "var_list.r",
     "varRefreshCmd": "cat(var_dic_list()) "
    }
   },
   "position": {
    "height": "356.517px",
    "left": "1206.67px",
    "right": "20px",
    "top": "46px",
    "width": "465.333px"
   },
   "types_to_exclude": [
    "module",
    "function",
    "builtin_function_or_method",
    "instance",
    "_Feature"
   ],
   "window_display": false
  }
 },
 "nbformat": 4,
 "nbformat_minor": 5
}
